{
 "cells": [
  {
   "cell_type": "markdown",
   "id": "1b6df3fb",
   "metadata": {},
   "source": [
    "# Glass Identification"
   ]
  },
  {
   "cell_type": "markdown",
   "id": "f117bbab",
   "metadata": {},
   "source": [
    "## Project Description"
   ]
  },
  {
   "cell_type": "markdown",
   "id": "7c819eab",
   "metadata": {},
   "source": [
    "The dataset describes the chemical properties of glass and involves classifying samples of glass using their chemical properties as one of six classes. The dataset was credited to Vina Spiehler in 1987. The study of classification of types of glass was motivated by criminological investigation. At the scene of the crime, the glass left can be used as evidence...if it is correctly identified!\n",
    "\n",
    "\n",
    "The chemical compositions are measured as the weight percent in corresponding oxide.\n",
    "\n",
    "### Attribute Information-\n",
    "\n",
    "1. Id number: 1 to 214\n",
    "    \n",
    "2. RI: refractive index\n",
    "    \n",
    "3. Na: Sodium (unit measurement: weight percent in corresponding oxide, as are attributes 4-10)\n",
    "    \n",
    "4. Mg: Magnesium\n",
    "    \n",
    "5. Al: Aluminum\n",
    "    \n",
    "6. Si: Silicon\n",
    "    \n",
    "7. K: Potassium\n",
    "    \n",
    "8. Ca: Calcium\n",
    "    \n",
    "9. Ba: Barium\n",
    "    \n",
    "10. Fe: Iron\n",
    "    \n",
    "11. Type of glass: (class attribute)\n",
    "    \n",
    "•\t1- building_windows_float_processed\n",
    "\n",
    "•\t2- building_windows_non_float_processed\n",
    "\n",
    "•\t3- vehicle_windows_float_processed\n",
    "\n",
    "•\t4- vehicle_windows_non_float_processed (none in this database)\n",
    "\n",
    "•\t5- containers\n",
    "\n",
    "•\t6- tableware\n",
    "\n",
    "•\t7- headlamps\n",
    "\n",
    "There are 214 observations in the dataset. The dataset can be divided into window glass (classes 1-4) and non-window glass (classes 5-7). \n",
    "\n",
    "\n",
    "## Predict : Type of glass\n"
   ]
  },
  {
   "cell_type": "markdown",
   "id": "9f23ae9f",
   "metadata": {},
   "source": [
    "## Dataset Link-\n",
    "•\thttps://github.com/FlipRoboTechnologies/ML-Datasets/blob/main/Glass%20Identification/Glass%20Identification.csv\n"
   ]
  },
  {
   "cell_type": "code",
   "execution_count": 1,
   "id": "0d314b03",
   "metadata": {},
   "outputs": [],
   "source": [
    "import pandas as pd\n",
    "import numpy as np\n",
    "import seaborn as sns\n",
    "import matplotlib.pyplot as plt\n",
    "import warnings\n",
    "warnings.filterwarnings('ignore')"
   ]
  },
  {
   "cell_type": "markdown",
   "id": "c9be2737",
   "metadata": {},
   "source": [
    "# Importing Data"
   ]
  },
  {
   "cell_type": "code",
   "execution_count": 2,
   "id": "dc3e81dc",
   "metadata": {},
   "outputs": [
    {
     "data": {
      "text/html": [
       "<div>\n",
       "<style scoped>\n",
       "    .dataframe tbody tr th:only-of-type {\n",
       "        vertical-align: middle;\n",
       "    }\n",
       "\n",
       "    .dataframe tbody tr th {\n",
       "        vertical-align: top;\n",
       "    }\n",
       "\n",
       "    .dataframe thead th {\n",
       "        text-align: right;\n",
       "    }\n",
       "</style>\n",
       "<table border=\"1\" class=\"dataframe\">\n",
       "  <thead>\n",
       "    <tr style=\"text-align: right;\">\n",
       "      <th></th>\n",
       "      <th>1</th>\n",
       "      <th>1.52101</th>\n",
       "      <th>13.64</th>\n",
       "      <th>4.49</th>\n",
       "      <th>1.10</th>\n",
       "      <th>71.78</th>\n",
       "      <th>0.06</th>\n",
       "      <th>8.75</th>\n",
       "      <th>0.00</th>\n",
       "      <th>0.00.1</th>\n",
       "      <th>1.1</th>\n",
       "    </tr>\n",
       "  </thead>\n",
       "  <tbody>\n",
       "    <tr>\n",
       "      <th>0</th>\n",
       "      <td>2</td>\n",
       "      <td>1.51761</td>\n",
       "      <td>13.89</td>\n",
       "      <td>3.60</td>\n",
       "      <td>1.36</td>\n",
       "      <td>72.73</td>\n",
       "      <td>0.48</td>\n",
       "      <td>7.83</td>\n",
       "      <td>0.00</td>\n",
       "      <td>0.00</td>\n",
       "      <td>1</td>\n",
       "    </tr>\n",
       "    <tr>\n",
       "      <th>1</th>\n",
       "      <td>3</td>\n",
       "      <td>1.51618</td>\n",
       "      <td>13.53</td>\n",
       "      <td>3.55</td>\n",
       "      <td>1.54</td>\n",
       "      <td>72.99</td>\n",
       "      <td>0.39</td>\n",
       "      <td>7.78</td>\n",
       "      <td>0.00</td>\n",
       "      <td>0.00</td>\n",
       "      <td>1</td>\n",
       "    </tr>\n",
       "    <tr>\n",
       "      <th>2</th>\n",
       "      <td>4</td>\n",
       "      <td>1.51766</td>\n",
       "      <td>13.21</td>\n",
       "      <td>3.69</td>\n",
       "      <td>1.29</td>\n",
       "      <td>72.61</td>\n",
       "      <td>0.57</td>\n",
       "      <td>8.22</td>\n",
       "      <td>0.00</td>\n",
       "      <td>0.00</td>\n",
       "      <td>1</td>\n",
       "    </tr>\n",
       "    <tr>\n",
       "      <th>3</th>\n",
       "      <td>5</td>\n",
       "      <td>1.51742</td>\n",
       "      <td>13.27</td>\n",
       "      <td>3.62</td>\n",
       "      <td>1.24</td>\n",
       "      <td>73.08</td>\n",
       "      <td>0.55</td>\n",
       "      <td>8.07</td>\n",
       "      <td>0.00</td>\n",
       "      <td>0.00</td>\n",
       "      <td>1</td>\n",
       "    </tr>\n",
       "    <tr>\n",
       "      <th>4</th>\n",
       "      <td>6</td>\n",
       "      <td>1.51596</td>\n",
       "      <td>12.79</td>\n",
       "      <td>3.61</td>\n",
       "      <td>1.62</td>\n",
       "      <td>72.97</td>\n",
       "      <td>0.64</td>\n",
       "      <td>8.07</td>\n",
       "      <td>0.00</td>\n",
       "      <td>0.26</td>\n",
       "      <td>1</td>\n",
       "    </tr>\n",
       "    <tr>\n",
       "      <th>...</th>\n",
       "      <td>...</td>\n",
       "      <td>...</td>\n",
       "      <td>...</td>\n",
       "      <td>...</td>\n",
       "      <td>...</td>\n",
       "      <td>...</td>\n",
       "      <td>...</td>\n",
       "      <td>...</td>\n",
       "      <td>...</td>\n",
       "      <td>...</td>\n",
       "      <td>...</td>\n",
       "    </tr>\n",
       "    <tr>\n",
       "      <th>208</th>\n",
       "      <td>210</td>\n",
       "      <td>1.51623</td>\n",
       "      <td>14.14</td>\n",
       "      <td>0.00</td>\n",
       "      <td>2.88</td>\n",
       "      <td>72.61</td>\n",
       "      <td>0.08</td>\n",
       "      <td>9.18</td>\n",
       "      <td>1.06</td>\n",
       "      <td>0.00</td>\n",
       "      <td>7</td>\n",
       "    </tr>\n",
       "    <tr>\n",
       "      <th>209</th>\n",
       "      <td>211</td>\n",
       "      <td>1.51685</td>\n",
       "      <td>14.92</td>\n",
       "      <td>0.00</td>\n",
       "      <td>1.99</td>\n",
       "      <td>73.06</td>\n",
       "      <td>0.00</td>\n",
       "      <td>8.40</td>\n",
       "      <td>1.59</td>\n",
       "      <td>0.00</td>\n",
       "      <td>7</td>\n",
       "    </tr>\n",
       "    <tr>\n",
       "      <th>210</th>\n",
       "      <td>212</td>\n",
       "      <td>1.52065</td>\n",
       "      <td>14.36</td>\n",
       "      <td>0.00</td>\n",
       "      <td>2.02</td>\n",
       "      <td>73.42</td>\n",
       "      <td>0.00</td>\n",
       "      <td>8.44</td>\n",
       "      <td>1.64</td>\n",
       "      <td>0.00</td>\n",
       "      <td>7</td>\n",
       "    </tr>\n",
       "    <tr>\n",
       "      <th>211</th>\n",
       "      <td>213</td>\n",
       "      <td>1.51651</td>\n",
       "      <td>14.38</td>\n",
       "      <td>0.00</td>\n",
       "      <td>1.94</td>\n",
       "      <td>73.61</td>\n",
       "      <td>0.00</td>\n",
       "      <td>8.48</td>\n",
       "      <td>1.57</td>\n",
       "      <td>0.00</td>\n",
       "      <td>7</td>\n",
       "    </tr>\n",
       "    <tr>\n",
       "      <th>212</th>\n",
       "      <td>214</td>\n",
       "      <td>1.51711</td>\n",
       "      <td>14.23</td>\n",
       "      <td>0.00</td>\n",
       "      <td>2.08</td>\n",
       "      <td>73.36</td>\n",
       "      <td>0.00</td>\n",
       "      <td>8.62</td>\n",
       "      <td>1.67</td>\n",
       "      <td>0.00</td>\n",
       "      <td>7</td>\n",
       "    </tr>\n",
       "  </tbody>\n",
       "</table>\n",
       "<p>213 rows × 11 columns</p>\n",
       "</div>"
      ],
      "text/plain": [
       "       1  1.52101  13.64  4.49  1.10  71.78  0.06  8.75  0.00  0.00.1  1.1\n",
       "0      2  1.51761  13.89  3.60  1.36  72.73  0.48  7.83  0.00    0.00    1\n",
       "1      3  1.51618  13.53  3.55  1.54  72.99  0.39  7.78  0.00    0.00    1\n",
       "2      4  1.51766  13.21  3.69  1.29  72.61  0.57  8.22  0.00    0.00    1\n",
       "3      5  1.51742  13.27  3.62  1.24  73.08  0.55  8.07  0.00    0.00    1\n",
       "4      6  1.51596  12.79  3.61  1.62  72.97  0.64  8.07  0.00    0.26    1\n",
       "..   ...      ...    ...   ...   ...    ...   ...   ...   ...     ...  ...\n",
       "208  210  1.51623  14.14  0.00  2.88  72.61  0.08  9.18  1.06    0.00    7\n",
       "209  211  1.51685  14.92  0.00  1.99  73.06  0.00  8.40  1.59    0.00    7\n",
       "210  212  1.52065  14.36  0.00  2.02  73.42  0.00  8.44  1.64    0.00    7\n",
       "211  213  1.51651  14.38  0.00  1.94  73.61  0.00  8.48  1.57    0.00    7\n",
       "212  214  1.51711  14.23  0.00  2.08  73.36  0.00  8.62  1.67    0.00    7\n",
       "\n",
       "[213 rows x 11 columns]"
      ]
     },
     "execution_count": 2,
     "metadata": {},
     "output_type": "execute_result"
    }
   ],
   "source": [
    "df=pd.read_csv('Glass Identification.csv')\n",
    "df"
   ]
  },
  {
   "cell_type": "code",
   "execution_count": 3,
   "id": "7ea2ceef",
   "metadata": {},
   "outputs": [
    {
     "data": {
      "text/html": [
       "<div>\n",
       "<style scoped>\n",
       "    .dataframe tbody tr th:only-of-type {\n",
       "        vertical-align: middle;\n",
       "    }\n",
       "\n",
       "    .dataframe tbody tr th {\n",
       "        vertical-align: top;\n",
       "    }\n",
       "\n",
       "    .dataframe thead th {\n",
       "        text-align: right;\n",
       "    }\n",
       "</style>\n",
       "<table border=\"1\" class=\"dataframe\">\n",
       "  <thead>\n",
       "    <tr style=\"text-align: right;\">\n",
       "      <th></th>\n",
       "      <th>Id</th>\n",
       "      <th>RI: refractive index</th>\n",
       "      <th>Na: Sodium</th>\n",
       "      <th>Mg: Magnesium</th>\n",
       "      <th>Al: Aluminum</th>\n",
       "      <th>Si: Silicon</th>\n",
       "      <th>K: Potassium</th>\n",
       "      <th>Ca: Calcium</th>\n",
       "      <th>Ba: Barium</th>\n",
       "      <th>Fe: Iron</th>\n",
       "      <th>Type of glass</th>\n",
       "    </tr>\n",
       "  </thead>\n",
       "  <tbody>\n",
       "    <tr>\n",
       "      <th>0</th>\n",
       "      <td>2</td>\n",
       "      <td>1.51761</td>\n",
       "      <td>13.89</td>\n",
       "      <td>3.60</td>\n",
       "      <td>1.36</td>\n",
       "      <td>72.73</td>\n",
       "      <td>0.48</td>\n",
       "      <td>7.83</td>\n",
       "      <td>0.00</td>\n",
       "      <td>0.00</td>\n",
       "      <td>1</td>\n",
       "    </tr>\n",
       "    <tr>\n",
       "      <th>1</th>\n",
       "      <td>3</td>\n",
       "      <td>1.51618</td>\n",
       "      <td>13.53</td>\n",
       "      <td>3.55</td>\n",
       "      <td>1.54</td>\n",
       "      <td>72.99</td>\n",
       "      <td>0.39</td>\n",
       "      <td>7.78</td>\n",
       "      <td>0.00</td>\n",
       "      <td>0.00</td>\n",
       "      <td>1</td>\n",
       "    </tr>\n",
       "    <tr>\n",
       "      <th>2</th>\n",
       "      <td>4</td>\n",
       "      <td>1.51766</td>\n",
       "      <td>13.21</td>\n",
       "      <td>3.69</td>\n",
       "      <td>1.29</td>\n",
       "      <td>72.61</td>\n",
       "      <td>0.57</td>\n",
       "      <td>8.22</td>\n",
       "      <td>0.00</td>\n",
       "      <td>0.00</td>\n",
       "      <td>1</td>\n",
       "    </tr>\n",
       "    <tr>\n",
       "      <th>3</th>\n",
       "      <td>5</td>\n",
       "      <td>1.51742</td>\n",
       "      <td>13.27</td>\n",
       "      <td>3.62</td>\n",
       "      <td>1.24</td>\n",
       "      <td>73.08</td>\n",
       "      <td>0.55</td>\n",
       "      <td>8.07</td>\n",
       "      <td>0.00</td>\n",
       "      <td>0.00</td>\n",
       "      <td>1</td>\n",
       "    </tr>\n",
       "    <tr>\n",
       "      <th>4</th>\n",
       "      <td>6</td>\n",
       "      <td>1.51596</td>\n",
       "      <td>12.79</td>\n",
       "      <td>3.61</td>\n",
       "      <td>1.62</td>\n",
       "      <td>72.97</td>\n",
       "      <td>0.64</td>\n",
       "      <td>8.07</td>\n",
       "      <td>0.00</td>\n",
       "      <td>0.26</td>\n",
       "      <td>1</td>\n",
       "    </tr>\n",
       "    <tr>\n",
       "      <th>...</th>\n",
       "      <td>...</td>\n",
       "      <td>...</td>\n",
       "      <td>...</td>\n",
       "      <td>...</td>\n",
       "      <td>...</td>\n",
       "      <td>...</td>\n",
       "      <td>...</td>\n",
       "      <td>...</td>\n",
       "      <td>...</td>\n",
       "      <td>...</td>\n",
       "      <td>...</td>\n",
       "    </tr>\n",
       "    <tr>\n",
       "      <th>208</th>\n",
       "      <td>210</td>\n",
       "      <td>1.51623</td>\n",
       "      <td>14.14</td>\n",
       "      <td>0.00</td>\n",
       "      <td>2.88</td>\n",
       "      <td>72.61</td>\n",
       "      <td>0.08</td>\n",
       "      <td>9.18</td>\n",
       "      <td>1.06</td>\n",
       "      <td>0.00</td>\n",
       "      <td>7</td>\n",
       "    </tr>\n",
       "    <tr>\n",
       "      <th>209</th>\n",
       "      <td>211</td>\n",
       "      <td>1.51685</td>\n",
       "      <td>14.92</td>\n",
       "      <td>0.00</td>\n",
       "      <td>1.99</td>\n",
       "      <td>73.06</td>\n",
       "      <td>0.00</td>\n",
       "      <td>8.40</td>\n",
       "      <td>1.59</td>\n",
       "      <td>0.00</td>\n",
       "      <td>7</td>\n",
       "    </tr>\n",
       "    <tr>\n",
       "      <th>210</th>\n",
       "      <td>212</td>\n",
       "      <td>1.52065</td>\n",
       "      <td>14.36</td>\n",
       "      <td>0.00</td>\n",
       "      <td>2.02</td>\n",
       "      <td>73.42</td>\n",
       "      <td>0.00</td>\n",
       "      <td>8.44</td>\n",
       "      <td>1.64</td>\n",
       "      <td>0.00</td>\n",
       "      <td>7</td>\n",
       "    </tr>\n",
       "    <tr>\n",
       "      <th>211</th>\n",
       "      <td>213</td>\n",
       "      <td>1.51651</td>\n",
       "      <td>14.38</td>\n",
       "      <td>0.00</td>\n",
       "      <td>1.94</td>\n",
       "      <td>73.61</td>\n",
       "      <td>0.00</td>\n",
       "      <td>8.48</td>\n",
       "      <td>1.57</td>\n",
       "      <td>0.00</td>\n",
       "      <td>7</td>\n",
       "    </tr>\n",
       "    <tr>\n",
       "      <th>212</th>\n",
       "      <td>214</td>\n",
       "      <td>1.51711</td>\n",
       "      <td>14.23</td>\n",
       "      <td>0.00</td>\n",
       "      <td>2.08</td>\n",
       "      <td>73.36</td>\n",
       "      <td>0.00</td>\n",
       "      <td>8.62</td>\n",
       "      <td>1.67</td>\n",
       "      <td>0.00</td>\n",
       "      <td>7</td>\n",
       "    </tr>\n",
       "  </tbody>\n",
       "</table>\n",
       "<p>213 rows × 11 columns</p>\n",
       "</div>"
      ],
      "text/plain": [
       "      Id  RI: refractive index  Na: Sodium  Mg: Magnesium  Al: Aluminum  \\\n",
       "0      2               1.51761       13.89           3.60          1.36   \n",
       "1      3               1.51618       13.53           3.55          1.54   \n",
       "2      4               1.51766       13.21           3.69          1.29   \n",
       "3      5               1.51742       13.27           3.62          1.24   \n",
       "4      6               1.51596       12.79           3.61          1.62   \n",
       "..   ...                   ...         ...            ...           ...   \n",
       "208  210               1.51623       14.14           0.00          2.88   \n",
       "209  211               1.51685       14.92           0.00          1.99   \n",
       "210  212               1.52065       14.36           0.00          2.02   \n",
       "211  213               1.51651       14.38           0.00          1.94   \n",
       "212  214               1.51711       14.23           0.00          2.08   \n",
       "\n",
       "     Si: Silicon  K: Potassium  Ca: Calcium  Ba: Barium  Fe: Iron  \\\n",
       "0          72.73          0.48         7.83        0.00      0.00   \n",
       "1          72.99          0.39         7.78        0.00      0.00   \n",
       "2          72.61          0.57         8.22        0.00      0.00   \n",
       "3          73.08          0.55         8.07        0.00      0.00   \n",
       "4          72.97          0.64         8.07        0.00      0.26   \n",
       "..           ...           ...          ...         ...       ...   \n",
       "208        72.61          0.08         9.18        1.06      0.00   \n",
       "209        73.06          0.00         8.40        1.59      0.00   \n",
       "210        73.42          0.00         8.44        1.64      0.00   \n",
       "211        73.61          0.00         8.48        1.57      0.00   \n",
       "212        73.36          0.00         8.62        1.67      0.00   \n",
       "\n",
       "     Type of glass  \n",
       "0                1  \n",
       "1                1  \n",
       "2                1  \n",
       "3                1  \n",
       "4                1  \n",
       "..             ...  \n",
       "208              7  \n",
       "209              7  \n",
       "210              7  \n",
       "211              7  \n",
       "212              7  \n",
       "\n",
       "[213 rows x 11 columns]"
      ]
     },
     "execution_count": 3,
     "metadata": {},
     "output_type": "execute_result"
    }
   ],
   "source": [
    "#Assigning column names\n",
    "\n",
    "df.columns = ['Id','RI: refractive index','Na: Sodium','Mg: Magnesium','Al: Aluminum','Si: Silicon','K: Potassium','Ca: Calcium','Ba: Barium','Fe: Iron','Type of glass']\n",
    "df"
   ]
  },
  {
   "cell_type": "code",
   "execution_count": 4,
   "id": "4d2af124",
   "metadata": {},
   "outputs": [
    {
     "data": {
      "text/html": [
       "<div>\n",
       "<style scoped>\n",
       "    .dataframe tbody tr th:only-of-type {\n",
       "        vertical-align: middle;\n",
       "    }\n",
       "\n",
       "    .dataframe tbody tr th {\n",
       "        vertical-align: top;\n",
       "    }\n",
       "\n",
       "    .dataframe thead th {\n",
       "        text-align: right;\n",
       "    }\n",
       "</style>\n",
       "<table border=\"1\" class=\"dataframe\">\n",
       "  <thead>\n",
       "    <tr style=\"text-align: right;\">\n",
       "      <th></th>\n",
       "      <th>Id</th>\n",
       "      <th>RI: refractive index</th>\n",
       "      <th>Na: Sodium</th>\n",
       "      <th>Mg: Magnesium</th>\n",
       "      <th>Al: Aluminum</th>\n",
       "      <th>Si: Silicon</th>\n",
       "      <th>K: Potassium</th>\n",
       "      <th>Ca: Calcium</th>\n",
       "      <th>Ba: Barium</th>\n",
       "      <th>Fe: Iron</th>\n",
       "      <th>Type of glass</th>\n",
       "    </tr>\n",
       "  </thead>\n",
       "  <tbody>\n",
       "    <tr>\n",
       "      <th>0</th>\n",
       "      <td>2</td>\n",
       "      <td>1.51761</td>\n",
       "      <td>13.89</td>\n",
       "      <td>3.60</td>\n",
       "      <td>1.36</td>\n",
       "      <td>72.73</td>\n",
       "      <td>0.48</td>\n",
       "      <td>7.83</td>\n",
       "      <td>0.0</td>\n",
       "      <td>0.00</td>\n",
       "      <td>1</td>\n",
       "    </tr>\n",
       "    <tr>\n",
       "      <th>1</th>\n",
       "      <td>3</td>\n",
       "      <td>1.51618</td>\n",
       "      <td>13.53</td>\n",
       "      <td>3.55</td>\n",
       "      <td>1.54</td>\n",
       "      <td>72.99</td>\n",
       "      <td>0.39</td>\n",
       "      <td>7.78</td>\n",
       "      <td>0.0</td>\n",
       "      <td>0.00</td>\n",
       "      <td>1</td>\n",
       "    </tr>\n",
       "    <tr>\n",
       "      <th>2</th>\n",
       "      <td>4</td>\n",
       "      <td>1.51766</td>\n",
       "      <td>13.21</td>\n",
       "      <td>3.69</td>\n",
       "      <td>1.29</td>\n",
       "      <td>72.61</td>\n",
       "      <td>0.57</td>\n",
       "      <td>8.22</td>\n",
       "      <td>0.0</td>\n",
       "      <td>0.00</td>\n",
       "      <td>1</td>\n",
       "    </tr>\n",
       "    <tr>\n",
       "      <th>3</th>\n",
       "      <td>5</td>\n",
       "      <td>1.51742</td>\n",
       "      <td>13.27</td>\n",
       "      <td>3.62</td>\n",
       "      <td>1.24</td>\n",
       "      <td>73.08</td>\n",
       "      <td>0.55</td>\n",
       "      <td>8.07</td>\n",
       "      <td>0.0</td>\n",
       "      <td>0.00</td>\n",
       "      <td>1</td>\n",
       "    </tr>\n",
       "    <tr>\n",
       "      <th>4</th>\n",
       "      <td>6</td>\n",
       "      <td>1.51596</td>\n",
       "      <td>12.79</td>\n",
       "      <td>3.61</td>\n",
       "      <td>1.62</td>\n",
       "      <td>72.97</td>\n",
       "      <td>0.64</td>\n",
       "      <td>8.07</td>\n",
       "      <td>0.0</td>\n",
       "      <td>0.26</td>\n",
       "      <td>1</td>\n",
       "    </tr>\n",
       "  </tbody>\n",
       "</table>\n",
       "</div>"
      ],
      "text/plain": [
       "   Id  RI: refractive index  Na: Sodium  Mg: Magnesium  Al: Aluminum  \\\n",
       "0   2               1.51761       13.89           3.60          1.36   \n",
       "1   3               1.51618       13.53           3.55          1.54   \n",
       "2   4               1.51766       13.21           3.69          1.29   \n",
       "3   5               1.51742       13.27           3.62          1.24   \n",
       "4   6               1.51596       12.79           3.61          1.62   \n",
       "\n",
       "   Si: Silicon  K: Potassium  Ca: Calcium  Ba: Barium  Fe: Iron  Type of glass  \n",
       "0        72.73          0.48         7.83         0.0      0.00              1  \n",
       "1        72.99          0.39         7.78         0.0      0.00              1  \n",
       "2        72.61          0.57         8.22         0.0      0.00              1  \n",
       "3        73.08          0.55         8.07         0.0      0.00              1  \n",
       "4        72.97          0.64         8.07         0.0      0.26              1  "
      ]
     },
     "execution_count": 4,
     "metadata": {},
     "output_type": "execute_result"
    }
   ],
   "source": [
    "df.head()"
   ]
  },
  {
   "cell_type": "code",
   "execution_count": 5,
   "id": "a18f1ea6",
   "metadata": {},
   "outputs": [
    {
     "data": {
      "text/html": [
       "<div>\n",
       "<style scoped>\n",
       "    .dataframe tbody tr th:only-of-type {\n",
       "        vertical-align: middle;\n",
       "    }\n",
       "\n",
       "    .dataframe tbody tr th {\n",
       "        vertical-align: top;\n",
       "    }\n",
       "\n",
       "    .dataframe thead th {\n",
       "        text-align: right;\n",
       "    }\n",
       "</style>\n",
       "<table border=\"1\" class=\"dataframe\">\n",
       "  <thead>\n",
       "    <tr style=\"text-align: right;\">\n",
       "      <th></th>\n",
       "      <th>Id</th>\n",
       "      <th>RI: refractive index</th>\n",
       "      <th>Na: Sodium</th>\n",
       "      <th>Mg: Magnesium</th>\n",
       "      <th>Al: Aluminum</th>\n",
       "      <th>Si: Silicon</th>\n",
       "      <th>K: Potassium</th>\n",
       "      <th>Ca: Calcium</th>\n",
       "      <th>Ba: Barium</th>\n",
       "      <th>Fe: Iron</th>\n",
       "      <th>Type of glass</th>\n",
       "    </tr>\n",
       "  </thead>\n",
       "  <tbody>\n",
       "    <tr>\n",
       "      <th>208</th>\n",
       "      <td>210</td>\n",
       "      <td>1.51623</td>\n",
       "      <td>14.14</td>\n",
       "      <td>0.0</td>\n",
       "      <td>2.88</td>\n",
       "      <td>72.61</td>\n",
       "      <td>0.08</td>\n",
       "      <td>9.18</td>\n",
       "      <td>1.06</td>\n",
       "      <td>0.0</td>\n",
       "      <td>7</td>\n",
       "    </tr>\n",
       "    <tr>\n",
       "      <th>209</th>\n",
       "      <td>211</td>\n",
       "      <td>1.51685</td>\n",
       "      <td>14.92</td>\n",
       "      <td>0.0</td>\n",
       "      <td>1.99</td>\n",
       "      <td>73.06</td>\n",
       "      <td>0.00</td>\n",
       "      <td>8.40</td>\n",
       "      <td>1.59</td>\n",
       "      <td>0.0</td>\n",
       "      <td>7</td>\n",
       "    </tr>\n",
       "    <tr>\n",
       "      <th>210</th>\n",
       "      <td>212</td>\n",
       "      <td>1.52065</td>\n",
       "      <td>14.36</td>\n",
       "      <td>0.0</td>\n",
       "      <td>2.02</td>\n",
       "      <td>73.42</td>\n",
       "      <td>0.00</td>\n",
       "      <td>8.44</td>\n",
       "      <td>1.64</td>\n",
       "      <td>0.0</td>\n",
       "      <td>7</td>\n",
       "    </tr>\n",
       "    <tr>\n",
       "      <th>211</th>\n",
       "      <td>213</td>\n",
       "      <td>1.51651</td>\n",
       "      <td>14.38</td>\n",
       "      <td>0.0</td>\n",
       "      <td>1.94</td>\n",
       "      <td>73.61</td>\n",
       "      <td>0.00</td>\n",
       "      <td>8.48</td>\n",
       "      <td>1.57</td>\n",
       "      <td>0.0</td>\n",
       "      <td>7</td>\n",
       "    </tr>\n",
       "    <tr>\n",
       "      <th>212</th>\n",
       "      <td>214</td>\n",
       "      <td>1.51711</td>\n",
       "      <td>14.23</td>\n",
       "      <td>0.0</td>\n",
       "      <td>2.08</td>\n",
       "      <td>73.36</td>\n",
       "      <td>0.00</td>\n",
       "      <td>8.62</td>\n",
       "      <td>1.67</td>\n",
       "      <td>0.0</td>\n",
       "      <td>7</td>\n",
       "    </tr>\n",
       "  </tbody>\n",
       "</table>\n",
       "</div>"
      ],
      "text/plain": [
       "      Id  RI: refractive index  Na: Sodium  Mg: Magnesium  Al: Aluminum  \\\n",
       "208  210               1.51623       14.14            0.0          2.88   \n",
       "209  211               1.51685       14.92            0.0          1.99   \n",
       "210  212               1.52065       14.36            0.0          2.02   \n",
       "211  213               1.51651       14.38            0.0          1.94   \n",
       "212  214               1.51711       14.23            0.0          2.08   \n",
       "\n",
       "     Si: Silicon  K: Potassium  Ca: Calcium  Ba: Barium  Fe: Iron  \\\n",
       "208        72.61          0.08         9.18        1.06       0.0   \n",
       "209        73.06          0.00         8.40        1.59       0.0   \n",
       "210        73.42          0.00         8.44        1.64       0.0   \n",
       "211        73.61          0.00         8.48        1.57       0.0   \n",
       "212        73.36          0.00         8.62        1.67       0.0   \n",
       "\n",
       "     Type of glass  \n",
       "208              7  \n",
       "209              7  \n",
       "210              7  \n",
       "211              7  \n",
       "212              7  "
      ]
     },
     "execution_count": 5,
     "metadata": {},
     "output_type": "execute_result"
    }
   ],
   "source": [
    "df.tail()"
   ]
  },
  {
   "cell_type": "markdown",
   "id": "ec6caa49",
   "metadata": {},
   "source": [
    "# Exploratory Data Analysis EDA"
   ]
  },
  {
   "cell_type": "code",
   "execution_count": 6,
   "id": "1fd6d1b0",
   "metadata": {},
   "outputs": [
    {
     "data": {
      "text/plain": [
       "(213, 11)"
      ]
     },
     "execution_count": 6,
     "metadata": {},
     "output_type": "execute_result"
    }
   ],
   "source": [
    "df.shape"
   ]
  },
  {
   "cell_type": "code",
   "execution_count": 7,
   "id": "b530e74c",
   "metadata": {},
   "outputs": [
    {
     "data": {
      "text/plain": [
       "Index(['Id', 'RI: refractive index', 'Na: Sodium', 'Mg: Magnesium',\n",
       "       'Al: Aluminum', 'Si: Silicon', 'K: Potassium', 'Ca: Calcium',\n",
       "       'Ba: Barium', 'Fe: Iron', 'Type of glass'],\n",
       "      dtype='object')"
      ]
     },
     "execution_count": 7,
     "metadata": {},
     "output_type": "execute_result"
    }
   ],
   "source": [
    "df.columns"
   ]
  },
  {
   "cell_type": "code",
   "execution_count": 8,
   "id": "c235dd8d",
   "metadata": {},
   "outputs": [
    {
     "data": {
      "text/plain": [
       "Id                      213\n",
       "RI: refractive index    177\n",
       "Na: Sodium              142\n",
       "Mg: Magnesium            93\n",
       "Al: Aluminum            117\n",
       "Si: Silicon             132\n",
       "K: Potassium             65\n",
       "Ca: Calcium             143\n",
       "Ba: Barium               34\n",
       "Fe: Iron                 32\n",
       "Type of glass             6\n",
       "dtype: int64"
      ]
     },
     "execution_count": 8,
     "metadata": {},
     "output_type": "execute_result"
    }
   ],
   "source": [
    "df.nunique()"
   ]
  },
  {
   "cell_type": "code",
   "execution_count": 9,
   "id": "90f086c6",
   "metadata": {},
   "outputs": [
    {
     "data": {
      "text/plain": [
       "Id                        int64\n",
       "RI: refractive index    float64\n",
       "Na: Sodium              float64\n",
       "Mg: Magnesium           float64\n",
       "Al: Aluminum            float64\n",
       "Si: Silicon             float64\n",
       "K: Potassium            float64\n",
       "Ca: Calcium             float64\n",
       "Ba: Barium              float64\n",
       "Fe: Iron                float64\n",
       "Type of glass             int64\n",
       "dtype: object"
      ]
     },
     "execution_count": 9,
     "metadata": {},
     "output_type": "execute_result"
    }
   ],
   "source": [
    "df.dtypes"
   ]
  },
  {
   "cell_type": "code",
   "execution_count": 10,
   "id": "2be3dd6d",
   "metadata": {},
   "outputs": [
    {
     "data": {
      "text/plain": [
       "Id                      0\n",
       "RI: refractive index    0\n",
       "Na: Sodium              0\n",
       "Mg: Magnesium           0\n",
       "Al: Aluminum            0\n",
       "Si: Silicon             0\n",
       "K: Potassium            0\n",
       "Ca: Calcium             0\n",
       "Ba: Barium              0\n",
       "Fe: Iron                0\n",
       "Type of glass           0\n",
       "dtype: int64"
      ]
     },
     "execution_count": 10,
     "metadata": {},
     "output_type": "execute_result"
    }
   ],
   "source": [
    "df.isnull().sum()"
   ]
  },
  {
   "cell_type": "markdown",
   "id": "d3da7ce0",
   "metadata": {},
   "source": [
    "No Null values presented in our dataset."
   ]
  },
  {
   "cell_type": "code",
   "execution_count": 11,
   "id": "db7f92a6",
   "metadata": {},
   "outputs": [
    {
     "name": "stdout",
     "output_type": "stream",
     "text": [
      "<class 'pandas.core.frame.DataFrame'>\n",
      "RangeIndex: 213 entries, 0 to 212\n",
      "Data columns (total 11 columns):\n",
      " #   Column                Non-Null Count  Dtype  \n",
      "---  ------                --------------  -----  \n",
      " 0   Id                    213 non-null    int64  \n",
      " 1   RI: refractive index  213 non-null    float64\n",
      " 2   Na: Sodium            213 non-null    float64\n",
      " 3   Mg: Magnesium         213 non-null    float64\n",
      " 4   Al: Aluminum          213 non-null    float64\n",
      " 5   Si: Silicon           213 non-null    float64\n",
      " 6   K: Potassium          213 non-null    float64\n",
      " 7   Ca: Calcium           213 non-null    float64\n",
      " 8   Ba: Barium            213 non-null    float64\n",
      " 9   Fe: Iron              213 non-null    float64\n",
      " 10  Type of glass         213 non-null    int64  \n",
      "dtypes: float64(9), int64(2)\n",
      "memory usage: 18.4 KB\n"
     ]
    }
   ],
   "source": [
    "df.info()"
   ]
  },
  {
   "cell_type": "code",
   "execution_count": 12,
   "id": "dd0dc878",
   "metadata": {},
   "outputs": [
    {
     "data": {
      "text/plain": [
       "<Axes: >"
      ]
     },
     "execution_count": 12,
     "metadata": {},
     "output_type": "execute_result"
    },
    {
     "data": {
      "image/png": "[encoded data removed]",
      "text/plain": [
       "<Figure size 640x480 with 2 Axes>"
      ]
     },
     "metadata": {},
     "output_type": "display_data"
    }
   ],
   "source": [
    "#We can also use heatmap to visualize if there is any null values presented\n",
    "\n",
    "sns.heatmap(df.isnull())"
   ]
  },
  {
   "cell_type": "code",
   "execution_count": 13,
   "id": "ae81d5e7",
   "metadata": {},
   "outputs": [
    {
     "data": {
      "text/html": [
       "<div>\n",
       "<style scoped>\n",
       "    .dataframe tbody tr th:only-of-type {\n",
       "        vertical-align: middle;\n",
       "    }\n",
       "\n",
       "    .dataframe tbody tr th {\n",
       "        vertical-align: top;\n",
       "    }\n",
       "\n",
       "    .dataframe thead th {\n",
       "        text-align: right;\n",
       "    }\n",
       "</style>\n",
       "<table border=\"1\" class=\"dataframe\">\n",
       "  <thead>\n",
       "    <tr style=\"text-align: right;\">\n",
       "      <th></th>\n",
       "      <th>Id</th>\n",
       "      <th>RI: refractive index</th>\n",
       "      <th>Na: Sodium</th>\n",
       "      <th>Mg: Magnesium</th>\n",
       "      <th>Al: Aluminum</th>\n",
       "      <th>Si: Silicon</th>\n",
       "      <th>K: Potassium</th>\n",
       "      <th>Ca: Calcium</th>\n",
       "      <th>Ba: Barium</th>\n",
       "      <th>Fe: Iron</th>\n",
       "      <th>Type of glass</th>\n",
       "    </tr>\n",
       "  </thead>\n",
       "  <tbody>\n",
       "    <tr>\n",
       "      <th>count</th>\n",
       "      <td>213.000000</td>\n",
       "      <td>213.000000</td>\n",
       "      <td>213.000000</td>\n",
       "      <td>213.000000</td>\n",
       "      <td>213.000000</td>\n",
       "      <td>213.000000</td>\n",
       "      <td>213.000000</td>\n",
       "      <td>213.000000</td>\n",
       "      <td>213.000000</td>\n",
       "      <td>213.000000</td>\n",
       "      <td>213.000000</td>\n",
       "    </tr>\n",
       "    <tr>\n",
       "      <th>mean</th>\n",
       "      <td>108.000000</td>\n",
       "      <td>1.518353</td>\n",
       "      <td>13.406761</td>\n",
       "      <td>2.676056</td>\n",
       "      <td>1.446526</td>\n",
       "      <td>72.655023</td>\n",
       "      <td>0.499108</td>\n",
       "      <td>8.957934</td>\n",
       "      <td>0.175869</td>\n",
       "      <td>0.057277</td>\n",
       "      <td>2.788732</td>\n",
       "    </tr>\n",
       "    <tr>\n",
       "      <th>std</th>\n",
       "      <td>61.631972</td>\n",
       "      <td>0.003039</td>\n",
       "      <td>0.818371</td>\n",
       "      <td>1.440453</td>\n",
       "      <td>0.499882</td>\n",
       "      <td>0.774052</td>\n",
       "      <td>0.653035</td>\n",
       "      <td>1.426435</td>\n",
       "      <td>0.498245</td>\n",
       "      <td>0.097589</td>\n",
       "      <td>2.105130</td>\n",
       "    </tr>\n",
       "    <tr>\n",
       "      <th>min</th>\n",
       "      <td>2.000000</td>\n",
       "      <td>1.511150</td>\n",
       "      <td>10.730000</td>\n",
       "      <td>0.000000</td>\n",
       "      <td>0.290000</td>\n",
       "      <td>69.810000</td>\n",
       "      <td>0.000000</td>\n",
       "      <td>5.430000</td>\n",
       "      <td>0.000000</td>\n",
       "      <td>0.000000</td>\n",
       "      <td>1.000000</td>\n",
       "    </tr>\n",
       "    <tr>\n",
       "      <th>25%</th>\n",
       "      <td>55.000000</td>\n",
       "      <td>1.516520</td>\n",
       "      <td>12.900000</td>\n",
       "      <td>2.090000</td>\n",
       "      <td>1.190000</td>\n",
       "      <td>72.280000</td>\n",
       "      <td>0.130000</td>\n",
       "      <td>8.240000</td>\n",
       "      <td>0.000000</td>\n",
       "      <td>0.000000</td>\n",
       "      <td>1.000000</td>\n",
       "    </tr>\n",
       "    <tr>\n",
       "      <th>50%</th>\n",
       "      <td>108.000000</td>\n",
       "      <td>1.517680</td>\n",
       "      <td>13.300000</td>\n",
       "      <td>3.480000</td>\n",
       "      <td>1.360000</td>\n",
       "      <td>72.790000</td>\n",
       "      <td>0.560000</td>\n",
       "      <td>8.600000</td>\n",
       "      <td>0.000000</td>\n",
       "      <td>0.000000</td>\n",
       "      <td>2.000000</td>\n",
       "    </tr>\n",
       "    <tr>\n",
       "      <th>75%</th>\n",
       "      <td>161.000000</td>\n",
       "      <td>1.519150</td>\n",
       "      <td>13.830000</td>\n",
       "      <td>3.600000</td>\n",
       "      <td>1.630000</td>\n",
       "      <td>73.090000</td>\n",
       "      <td>0.610000</td>\n",
       "      <td>9.180000</td>\n",
       "      <td>0.000000</td>\n",
       "      <td>0.100000</td>\n",
       "      <td>3.000000</td>\n",
       "    </tr>\n",
       "    <tr>\n",
       "      <th>max</th>\n",
       "      <td>214.000000</td>\n",
       "      <td>1.533930</td>\n",
       "      <td>17.380000</td>\n",
       "      <td>3.980000</td>\n",
       "      <td>3.500000</td>\n",
       "      <td>75.410000</td>\n",
       "      <td>6.210000</td>\n",
       "      <td>16.190000</td>\n",
       "      <td>3.150000</td>\n",
       "      <td>0.510000</td>\n",
       "      <td>7.000000</td>\n",
       "    </tr>\n",
       "  </tbody>\n",
       "</table>\n",
       "</div>"
      ],
      "text/plain": [
       "               Id  RI: refractive index  Na: Sodium  Mg: Magnesium  \\\n",
       "count  213.000000            213.000000  213.000000     213.000000   \n",
       "mean   108.000000              1.518353   13.406761       2.676056   \n",
       "std     61.631972              0.003039    0.818371       1.440453   \n",
       "min      2.000000              1.511150   10.730000       0.000000   \n",
       "25%     55.000000              1.516520   12.900000       2.090000   \n",
       "50%    108.000000              1.517680   13.300000       3.480000   \n",
       "75%    161.000000              1.519150   13.830000       3.600000   \n",
       "max    214.000000              1.533930   17.380000       3.980000   \n",
       "\n",
       "       Al: Aluminum  Si: Silicon  K: Potassium  Ca: Calcium  Ba: Barium  \\\n",
       "count    213.000000   213.000000    213.000000   213.000000  213.000000   \n",
       "mean       1.446526    72.655023      0.499108     8.957934    0.175869   \n",
       "std        0.499882     0.774052      0.653035     1.426435    0.498245   \n",
       "min        0.290000    69.810000      0.000000     5.430000    0.000000   \n",
       "25%        1.190000    72.280000      0.130000     8.240000    0.000000   \n",
       "50%        1.360000    72.790000      0.560000     8.600000    0.000000   \n",
       "75%        1.630000    73.090000      0.610000     9.180000    0.000000   \n",
       "max        3.500000    75.410000      6.210000    16.190000    3.150000   \n",
       "\n",
       "         Fe: Iron  Type of glass  \n",
       "count  213.000000     213.000000  \n",
       "mean     0.057277       2.788732  \n",
       "std      0.097589       2.105130  \n",
       "min      0.000000       1.000000  \n",
       "25%      0.000000       1.000000  \n",
       "50%      0.000000       2.000000  \n",
       "75%      0.100000       3.000000  \n",
       "max      0.510000       7.000000  "
      ]
     },
     "execution_count": 13,
     "metadata": {},
     "output_type": "execute_result"
    }
   ],
   "source": [
    "df.describe()"
   ]
  },
  {
   "cell_type": "markdown",
   "id": "6291c3dc",
   "metadata": {},
   "source": [
    "# Data Visualization"
   ]
  },
  {
   "cell_type": "code",
   "execution_count": 14,
   "id": "8ebcf2d8",
   "metadata": {},
   "outputs": [
    {
     "data": {
      "image/png": "[encoded data removed]",
      "text/plain": [
       "<Figure size 640x480 with 1 Axes>"
      ]
     },
     "metadata": {},
     "output_type": "display_data"
    },
    {
     "data": {
      "text/plain": [
       "<Figure size 5000x500 with 0 Axes>"
      ]
     },
     "metadata": {},
     "output_type": "display_data"
    },
    {
     "data": {
      "text/plain": [
       "2    76\n",
       "1    69\n",
       "7    29\n",
       "3    17\n",
       "5    13\n",
       "6     9\n",
       "Name: Type of glass, dtype: int64"
      ]
     },
     "execution_count": 14,
     "metadata": {},
     "output_type": "execute_result"
    }
   ],
   "source": [
    "ax=sns.countplot(x='Type of glass', data=df)\n",
    "plt.figure(figsize=(50,5))\n",
    "plt.show()\n",
    "\n",
    "df['Type of glass'].value_counts()"
   ]
  },
  {
   "cell_type": "markdown",
   "id": "6cd470d2",
   "metadata": {},
   "source": [
    "### Observation\n",
    "76 from type 2 glass (building_windows_non_float_processed)\n",
    "\n",
    "69 from type 1 glass (building_windows_float_processed)\n",
    "\n",
    "29 from type 7 glass (headlamps)\n",
    "\n",
    "17 from type 3 glass (vehicle_windows_float_processed)\n",
    "\n",
    "13 from type 5 glass (containers)\n",
    "\n",
    "9 from type 6 glass (tableware)\n",
    "\n",
    "0 from type 4 glass (vehicle_windows_non_float_processed)"
   ]
  },
  {
   "cell_type": "code",
   "execution_count": 15,
   "id": "d662ab6f",
   "metadata": {},
   "outputs": [],
   "source": [
    "df['Type of glass'] = [1 if x >= 4 else 0 for x in df['Type of glass']]"
   ]
  },
  {
   "cell_type": "code",
   "execution_count": 16,
   "id": "768aa700",
   "metadata": {},
   "outputs": [
    {
     "data": {
      "text/plain": [
       "0    162\n",
       "1     51\n",
       "Name: Type of glass, dtype: int64"
      ]
     },
     "execution_count": 16,
     "metadata": {},
     "output_type": "execute_result"
    }
   ],
   "source": [
    "df['Type of glass'].value_counts()"
   ]
  },
  {
   "cell_type": "code",
   "execution_count": 17,
   "id": "1ae83f02",
   "metadata": {},
   "outputs": [
    {
     "data": {
      "image/png": "[encoded data removed]",
      "text/plain": [
       "<Figure size 640x480 with 1 Axes>"
      ]
     },
     "metadata": {},
     "output_type": "display_data"
    },
    {
     "data": {
      "text/plain": [
       "<Figure size 5000x500 with 0 Axes>"
      ]
     },
     "metadata": {},
     "output_type": "display_data"
    }
   ],
   "source": [
    "ax=sns.countplot(x='Type of glass', data=df)\n",
    "plt.figure(figsize=(50,5))\n",
    "plt.show()"
   ]
  },
  {
   "cell_type": "markdown",
   "id": "15b30d8b",
   "metadata": {},
   "source": [
    "Where 0 is for window glass and 1 for non-window glass.\n",
    "\n",
    "Window glass 162 is a lot more than non-window glass 51."
   ]
  },
  {
   "cell_type": "code",
   "execution_count": 18,
   "id": "879bd258",
   "metadata": {},
   "outputs": [],
   "source": [
    "#dropping Id column\n",
    "\n",
    "df.drop(['Id'], axis=1,inplace=True)"
   ]
  },
  {
   "cell_type": "code",
   "execution_count": 19,
   "id": "fc7e7f19",
   "metadata": {},
   "outputs": [
    {
     "data": {
      "text/html": [
       "<div>\n",
       "<style scoped>\n",
       "    .dataframe tbody tr th:only-of-type {\n",
       "        vertical-align: middle;\n",
       "    }\n",
       "\n",
       "    .dataframe tbody tr th {\n",
       "        vertical-align: top;\n",
       "    }\n",
       "\n",
       "    .dataframe thead th {\n",
       "        text-align: right;\n",
       "    }\n",
       "</style>\n",
       "<table border=\"1\" class=\"dataframe\">\n",
       "  <thead>\n",
       "    <tr style=\"text-align: right;\">\n",
       "      <th></th>\n",
       "      <th>RI: refractive index</th>\n",
       "      <th>Na: Sodium</th>\n",
       "      <th>Mg: Magnesium</th>\n",
       "      <th>Al: Aluminum</th>\n",
       "      <th>Si: Silicon</th>\n",
       "      <th>K: Potassium</th>\n",
       "      <th>Ca: Calcium</th>\n",
       "      <th>Ba: Barium</th>\n",
       "      <th>Fe: Iron</th>\n",
       "      <th>Type of glass</th>\n",
       "    </tr>\n",
       "  </thead>\n",
       "  <tbody>\n",
       "    <tr>\n",
       "      <th>0</th>\n",
       "      <td>1.51761</td>\n",
       "      <td>13.89</td>\n",
       "      <td>3.60</td>\n",
       "      <td>1.36</td>\n",
       "      <td>72.73</td>\n",
       "      <td>0.48</td>\n",
       "      <td>7.83</td>\n",
       "      <td>0.00</td>\n",
       "      <td>0.00</td>\n",
       "      <td>0</td>\n",
       "    </tr>\n",
       "    <tr>\n",
       "      <th>1</th>\n",
       "      <td>1.51618</td>\n",
       "      <td>13.53</td>\n",
       "      <td>3.55</td>\n",
       "      <td>1.54</td>\n",
       "      <td>72.99</td>\n",
       "      <td>0.39</td>\n",
       "      <td>7.78</td>\n",
       "      <td>0.00</td>\n",
       "      <td>0.00</td>\n",
       "      <td>0</td>\n",
       "    </tr>\n",
       "    <tr>\n",
       "      <th>2</th>\n",
       "      <td>1.51766</td>\n",
       "      <td>13.21</td>\n",
       "      <td>3.69</td>\n",
       "      <td>1.29</td>\n",
       "      <td>72.61</td>\n",
       "      <td>0.57</td>\n",
       "      <td>8.22</td>\n",
       "      <td>0.00</td>\n",
       "      <td>0.00</td>\n",
       "      <td>0</td>\n",
       "    </tr>\n",
       "    <tr>\n",
       "      <th>3</th>\n",
       "      <td>1.51742</td>\n",
       "      <td>13.27</td>\n",
       "      <td>3.62</td>\n",
       "      <td>1.24</td>\n",
       "      <td>73.08</td>\n",
       "      <td>0.55</td>\n",
       "      <td>8.07</td>\n",
       "      <td>0.00</td>\n",
       "      <td>0.00</td>\n",
       "      <td>0</td>\n",
       "    </tr>\n",
       "    <tr>\n",
       "      <th>4</th>\n",
       "      <td>1.51596</td>\n",
       "      <td>12.79</td>\n",
       "      <td>3.61</td>\n",
       "      <td>1.62</td>\n",
       "      <td>72.97</td>\n",
       "      <td>0.64</td>\n",
       "      <td>8.07</td>\n",
       "      <td>0.00</td>\n",
       "      <td>0.26</td>\n",
       "      <td>0</td>\n",
       "    </tr>\n",
       "    <tr>\n",
       "      <th>...</th>\n",
       "      <td>...</td>\n",
       "      <td>...</td>\n",
       "      <td>...</td>\n",
       "      <td>...</td>\n",
       "      <td>...</td>\n",
       "      <td>...</td>\n",
       "      <td>...</td>\n",
       "      <td>...</td>\n",
       "      <td>...</td>\n",
       "      <td>...</td>\n",
       "    </tr>\n",
       "    <tr>\n",
       "      <th>208</th>\n",
       "      <td>1.51623</td>\n",
       "      <td>14.14</td>\n",
       "      <td>0.00</td>\n",
       "      <td>2.88</td>\n",
       "      <td>72.61</td>\n",
       "      <td>0.08</td>\n",
       "      <td>9.18</td>\n",
       "      <td>1.06</td>\n",
       "      <td>0.00</td>\n",
       "      <td>1</td>\n",
       "    </tr>\n",
       "    <tr>\n",
       "      <th>209</th>\n",
       "      <td>1.51685</td>\n",
       "      <td>14.92</td>\n",
       "      <td>0.00</td>\n",
       "      <td>1.99</td>\n",
       "      <td>73.06</td>\n",
       "      <td>0.00</td>\n",
       "      <td>8.40</td>\n",
       "      <td>1.59</td>\n",
       "      <td>0.00</td>\n",
       "      <td>1</td>\n",
       "    </tr>\n",
       "    <tr>\n",
       "      <th>210</th>\n",
       "      <td>1.52065</td>\n",
       "      <td>14.36</td>\n",
       "      <td>0.00</td>\n",
       "      <td>2.02</td>\n",
       "      <td>73.42</td>\n",
       "      <td>0.00</td>\n",
       "      <td>8.44</td>\n",
       "      <td>1.64</td>\n",
       "      <td>0.00</td>\n",
       "      <td>1</td>\n",
       "    </tr>\n",
       "    <tr>\n",
       "      <th>211</th>\n",
       "      <td>1.51651</td>\n",
       "      <td>14.38</td>\n",
       "      <td>0.00</td>\n",
       "      <td>1.94</td>\n",
       "      <td>73.61</td>\n",
       "      <td>0.00</td>\n",
       "      <td>8.48</td>\n",
       "      <td>1.57</td>\n",
       "      <td>0.00</td>\n",
       "      <td>1</td>\n",
       "    </tr>\n",
       "    <tr>\n",
       "      <th>212</th>\n",
       "      <td>1.51711</td>\n",
       "      <td>14.23</td>\n",
       "      <td>0.00</td>\n",
       "      <td>2.08</td>\n",
       "      <td>73.36</td>\n",
       "      <td>0.00</td>\n",
       "      <td>8.62</td>\n",
       "      <td>1.67</td>\n",
       "      <td>0.00</td>\n",
       "      <td>1</td>\n",
       "    </tr>\n",
       "  </tbody>\n",
       "</table>\n",
       "<p>213 rows × 10 columns</p>\n",
       "</div>"
      ],
      "text/plain": [
       "     RI: refractive index  Na: Sodium  Mg: Magnesium  Al: Aluminum  \\\n",
       "0                 1.51761       13.89           3.60          1.36   \n",
       "1                 1.51618       13.53           3.55          1.54   \n",
       "2                 1.51766       13.21           3.69          1.29   \n",
       "3                 1.51742       13.27           3.62          1.24   \n",
       "4                 1.51596       12.79           3.61          1.62   \n",
       "..                    ...         ...            ...           ...   \n",
       "208               1.51623       14.14           0.00          2.88   \n",
       "209               1.51685       14.92           0.00          1.99   \n",
       "210               1.52065       14.36           0.00          2.02   \n",
       "211               1.51651       14.38           0.00          1.94   \n",
       "212               1.51711       14.23           0.00          2.08   \n",
       "\n",
       "     Si: Silicon  K: Potassium  Ca: Calcium  Ba: Barium  Fe: Iron  \\\n",
       "0          72.73          0.48         7.83        0.00      0.00   \n",
       "1          72.99          0.39         7.78        0.00      0.00   \n",
       "2          72.61          0.57         8.22        0.00      0.00   \n",
       "3          73.08          0.55         8.07        0.00      0.00   \n",
       "4          72.97          0.64         8.07        0.00      0.26   \n",
       "..           ...           ...          ...         ...       ...   \n",
       "208        72.61          0.08         9.18        1.06      0.00   \n",
       "209        73.06          0.00         8.40        1.59      0.00   \n",
       "210        73.42          0.00         8.44        1.64      0.00   \n",
       "211        73.61          0.00         8.48        1.57      0.00   \n",
       "212        73.36          0.00         8.62        1.67      0.00   \n",
       "\n",
       "     Type of glass  \n",
       "0                0  \n",
       "1                0  \n",
       "2                0  \n",
       "3                0  \n",
       "4                0  \n",
       "..             ...  \n",
       "208              1  \n",
       "209              1  \n",
       "210              1  \n",
       "211              1  \n",
       "212              1  \n",
       "\n",
       "[213 rows x 10 columns]"
      ]
     },
     "execution_count": 19,
     "metadata": {},
     "output_type": "execute_result"
    }
   ],
   "source": [
    "df"
   ]
  },
  {
   "cell_type": "code",
   "execution_count": 20,
   "id": "c53065be",
   "metadata": {},
   "outputs": [
    {
     "data": {
      "image/png": "[encoded data removed]",
      "text/plain": [
       "<Figure size 1000x1500 with 10 Axes>"
      ]
     },
     "metadata": {},
     "output_type": "display_data"
    }
   ],
   "source": [
    "plt.figure(figsize=(10,15))\n",
    "plotnumber=1\n",
    "for i in df.columns:\n",
    "    if plotnumber<=10:\n",
    "        plt.subplot(5,2,plotnumber)\n",
    "        sns.distplot(df[i])\n",
    "        plt.xlabel(i)\n",
    "        plt.yticks(rotation=0)\n",
    "    plotnumber+=1\n",
    "plt.tight_layout()"
   ]
  },
  {
   "cell_type": "markdown",
   "id": "6214d80e",
   "metadata": {},
   "source": [
    "## Cheking for skewness"
   ]
  },
  {
   "cell_type": "code",
   "execution_count": 21,
   "id": "1c3305bb",
   "metadata": {},
   "outputs": [
    {
     "data": {
      "text/plain": [
       "RI: refractive index    1.639658\n",
       "Na: Sodium              0.457318\n",
       "Mg: Magnesium          -1.154323\n",
       "Al: Aluminum            0.900017\n",
       "Si: Silicon            -0.744546\n",
       "K: Potassium            6.549276\n",
       "Ca: Calcium             2.040591\n",
       "Ba: Barium              3.406749\n",
       "Fe: Iron                1.747173\n",
       "Type of glass           1.229860\n",
       "dtype: float64"
      ]
     },
     "execution_count": 21,
     "metadata": {},
     "output_type": "execute_result"
    }
   ],
   "source": [
    "df.skew()"
   ]
  },
  {
   "cell_type": "markdown",
   "id": "c3637d0e",
   "metadata": {},
   "source": [
    "We can see that there is skewness in RI: refractive index, Mg: Magnesium, Al: Aluminum, Si: Silicon, K: Potassium, Ca: Calcium, Ba: Barium, Fe: Iron."
   ]
  },
  {
   "cell_type": "markdown",
   "id": "dca4f9b6",
   "metadata": {},
   "source": [
    "## Removing of skewness"
   ]
  },
  {
   "cell_type": "code",
   "execution_count": 22,
   "id": "df04d2c6",
   "metadata": {},
   "outputs": [],
   "source": [
    "df['RI: refractive index']=np.cbrt(df['RI: refractive index'])\n",
    "df['Mg: Magnesium']=np.cbrt(df['Mg: Magnesium'])\n",
    "df['Al: Aluminum']=np.cbrt(df['Al: Aluminum'])\n",
    "df['Si: Silicon']=np.cbrt(df['Si: Silicon'])\n",
    "df['K: Potassium']=np.cbrt(df['K: Potassium'])\n",
    "df['Ca: Calcium']=np.cbrt(df['Ca: Calcium'])\n",
    "df['Ba: Barium']=np.cbrt(df['Ba: Barium'])\n",
    "df['Fe: Iron']=np.cbrt(df['Fe: Iron'])"
   ]
  },
  {
   "cell_type": "code",
   "execution_count": 23,
   "id": "b1265fd5",
   "metadata": {},
   "outputs": [
    {
     "data": {
      "text/plain": [
       "RI: refractive index    1.631276\n",
       "Na: Sodium              0.457318\n",
       "Mg: Magnesium          -1.434030\n",
       "Al: Aluminum           -0.212025\n",
       "Si: Silicon            -0.791299\n",
       "K: Potassium           -0.602542\n",
       "Ca: Calcium             1.402709\n",
       "Ba: Barium              2.065220\n",
       "Fe: Iron                0.887382\n",
       "Type of glass           1.229860\n",
       "dtype: float64"
      ]
     },
     "execution_count": 23,
     "metadata": {},
     "output_type": "execute_result"
    }
   ],
   "source": [
    "df.skew()"
   ]
  },
  {
   "cell_type": "markdown",
   "id": "1c1d686f",
   "metadata": {},
   "source": [
    "## Checking the correlation"
   ]
  },
  {
   "cell_type": "code",
   "execution_count": 24,
   "id": "8440ae3d",
   "metadata": {},
   "outputs": [
    {
     "data": {
      "text/html": [
       "<div>\n",
       "<style scoped>\n",
       "    .dataframe tbody tr th:only-of-type {\n",
       "        vertical-align: middle;\n",
       "    }\n",
       "\n",
       "    .dataframe tbody tr th {\n",
       "        vertical-align: top;\n",
       "    }\n",
       "\n",
       "    .dataframe thead th {\n",
       "        text-align: right;\n",
       "    }\n",
       "</style>\n",
       "<table border=\"1\" class=\"dataframe\">\n",
       "  <thead>\n",
       "    <tr style=\"text-align: right;\">\n",
       "      <th></th>\n",
       "      <th>RI: refractive index</th>\n",
       "      <th>Na: Sodium</th>\n",
       "      <th>Mg: Magnesium</th>\n",
       "      <th>Al: Aluminum</th>\n",
       "      <th>Si: Silicon</th>\n",
       "      <th>K: Potassium</th>\n",
       "      <th>Ca: Calcium</th>\n",
       "      <th>Ba: Barium</th>\n",
       "      <th>Fe: Iron</th>\n",
       "      <th>Type of glass</th>\n",
       "    </tr>\n",
       "  </thead>\n",
       "  <tbody>\n",
       "    <tr>\n",
       "      <th>RI: refractive index</th>\n",
       "      <td>1.000000</td>\n",
       "      <td>-0.193363</td>\n",
       "      <td>-0.117130</td>\n",
       "      <td>-0.416574</td>\n",
       "      <td>-0.540359</td>\n",
       "      <td>-0.209223</td>\n",
       "      <td>0.804777</td>\n",
       "      <td>-0.091052</td>\n",
       "      <td>0.135799</td>\n",
       "      <td>-0.132497</td>\n",
       "    </tr>\n",
       "    <tr>\n",
       "      <th>Na: Sodium</th>\n",
       "      <td>-0.193363</td>\n",
       "      <td>1.000000</td>\n",
       "      <td>-0.279296</td>\n",
       "      <td>0.078387</td>\n",
       "      <td>-0.069387</td>\n",
       "      <td>-0.539691</td>\n",
       "      <td>-0.264899</td>\n",
       "      <td>0.419484</td>\n",
       "      <td>-0.196262</td>\n",
       "      <td>0.453504</td>\n",
       "    </tr>\n",
       "    <tr>\n",
       "      <th>Mg: Magnesium</th>\n",
       "      <td>-0.117130</td>\n",
       "      <td>-0.279296</td>\n",
       "      <td>1.000000</td>\n",
       "      <td>-0.374347</td>\n",
       "      <td>-0.165647</td>\n",
       "      <td>0.447219</td>\n",
       "      <td>-0.398879</td>\n",
       "      <td>-0.547593</td>\n",
       "      <td>0.097130</td>\n",
       "      <td>-0.701493</td>\n",
       "    </tr>\n",
       "    <tr>\n",
       "      <th>Al: Aluminum</th>\n",
       "      <td>-0.416574</td>\n",
       "      <td>0.078387</td>\n",
       "      <td>-0.374347</td>\n",
       "      <td>1.000000</td>\n",
       "      <td>0.026821</td>\n",
       "      <td>0.117749</td>\n",
       "      <td>-0.288266</td>\n",
       "      <td>0.508589</td>\n",
       "      <td>-0.056761</td>\n",
       "      <td>0.520400</td>\n",
       "    </tr>\n",
       "    <tr>\n",
       "      <th>Si: Silicon</th>\n",
       "      <td>-0.540359</td>\n",
       "      <td>-0.069387</td>\n",
       "      <td>-0.165647</td>\n",
       "      <td>0.026821</td>\n",
       "      <td>1.000000</td>\n",
       "      <td>-0.177126</td>\n",
       "      <td>-0.192163</td>\n",
       "      <td>-0.009782</td>\n",
       "      <td>-0.081790</td>\n",
       "      <td>0.143296</td>\n",
       "    </tr>\n",
       "    <tr>\n",
       "      <th>K: Potassium</th>\n",
       "      <td>-0.209223</td>\n",
       "      <td>-0.539691</td>\n",
       "      <td>0.447219</td>\n",
       "      <td>0.117749</td>\n",
       "      <td>-0.177126</td>\n",
       "      <td>1.000000</td>\n",
       "      <td>-0.353358</td>\n",
       "      <td>-0.353397</td>\n",
       "      <td>0.116944</td>\n",
       "      <td>-0.392481</td>\n",
       "    </tr>\n",
       "    <tr>\n",
       "      <th>Ca: Calcium</th>\n",
       "      <td>0.804777</td>\n",
       "      <td>-0.264899</td>\n",
       "      <td>-0.398879</td>\n",
       "      <td>-0.288266</td>\n",
       "      <td>-0.192163</td>\n",
       "      <td>-0.353358</td>\n",
       "      <td>1.000000</td>\n",
       "      <td>-0.148520</td>\n",
       "      <td>0.116666</td>\n",
       "      <td>0.031727</td>\n",
       "    </tr>\n",
       "    <tr>\n",
       "      <th>Ba: Barium</th>\n",
       "      <td>-0.091052</td>\n",
       "      <td>0.419484</td>\n",
       "      <td>-0.547593</td>\n",
       "      <td>0.508589</td>\n",
       "      <td>-0.009782</td>\n",
       "      <td>-0.353397</td>\n",
       "      <td>-0.148520</td>\n",
       "      <td>1.000000</td>\n",
       "      <td>-0.037180</td>\n",
       "      <td>0.598586</td>\n",
       "    </tr>\n",
       "    <tr>\n",
       "      <th>Fe: Iron</th>\n",
       "      <td>0.135799</td>\n",
       "      <td>-0.196262</td>\n",
       "      <td>0.097130</td>\n",
       "      <td>-0.056761</td>\n",
       "      <td>-0.081790</td>\n",
       "      <td>0.116944</td>\n",
       "      <td>0.116666</td>\n",
       "      <td>-0.037180</td>\n",
       "      <td>1.000000</td>\n",
       "      <td>-0.222965</td>\n",
       "    </tr>\n",
       "    <tr>\n",
       "      <th>Type of glass</th>\n",
       "      <td>-0.132497</td>\n",
       "      <td>0.453504</td>\n",
       "      <td>-0.701493</td>\n",
       "      <td>0.520400</td>\n",
       "      <td>0.143296</td>\n",
       "      <td>-0.392481</td>\n",
       "      <td>0.031727</td>\n",
       "      <td>0.598586</td>\n",
       "      <td>-0.222965</td>\n",
       "      <td>1.000000</td>\n",
       "    </tr>\n",
       "  </tbody>\n",
       "</table>\n",
       "</div>"
      ],
      "text/plain": [
       "                      RI: refractive index  Na: Sodium  Mg: Magnesium  \\\n",
       "RI: refractive index              1.000000   -0.193363      -0.117130   \n",
       "Na: Sodium                       -0.193363    1.000000      -0.279296   \n",
       "Mg: Magnesium                    -0.117130   -0.279296       1.000000   \n",
       "Al: Aluminum                     -0.416574    0.078387      -0.374347   \n",
       "Si: Silicon                      -0.540359   -0.069387      -0.165647   \n",
       "K: Potassium                     -0.209223   -0.539691       0.447219   \n",
       "Ca: Calcium                       0.804777   -0.264899      -0.398879   \n",
       "Ba: Barium                       -0.091052    0.419484      -0.547593   \n",
       "Fe: Iron                          0.135799   -0.196262       0.097130   \n",
       "Type of glass                    -0.132497    0.453504      -0.701493   \n",
       "\n",
       "                      Al: Aluminum  Si: Silicon  K: Potassium  Ca: Calcium  \\\n",
       "RI: refractive index     -0.416574    -0.540359     -0.209223     0.804777   \n",
       "Na: Sodium                0.078387    -0.069387     -0.539691    -0.264899   \n",
       "Mg: Magnesium            -0.374347    -0.165647      0.447219    -0.398879   \n",
       "Al: Aluminum              1.000000     0.026821      0.117749    -0.288266   \n",
       "Si: Silicon               0.026821     1.000000     -0.177126    -0.192163   \n",
       "K: Potassium              0.117749    -0.177126      1.000000    -0.353358   \n",
       "Ca: Calcium              -0.288266    -0.192163     -0.353358     1.000000   \n",
       "Ba: Barium                0.508589    -0.009782     -0.353397    -0.148520   \n",
       "Fe: Iron                 -0.056761    -0.081790      0.116944     0.116666   \n",
       "Type of glass             0.520400     0.143296     -0.392481     0.031727   \n",
       "\n",
       "                      Ba: Barium  Fe: Iron  Type of glass  \n",
       "RI: refractive index   -0.091052  0.135799      -0.132497  \n",
       "Na: Sodium              0.419484 -0.196262       0.453504  \n",
       "Mg: Magnesium          -0.547593  0.097130      -0.701493  \n",
       "Al: Aluminum            0.508589 -0.056761       0.520400  \n",
       "Si: Silicon            -0.009782 -0.081790       0.143296  \n",
       "K: Potassium           -0.353397  0.116944      -0.392481  \n",
       "Ca: Calcium            -0.148520  0.116666       0.031727  \n",
       "Ba: Barium              1.000000 -0.037180       0.598586  \n",
       "Fe: Iron               -0.037180  1.000000      -0.222965  \n",
       "Type of glass           0.598586 -0.222965       1.000000  "
      ]
     },
     "execution_count": 24,
     "metadata": {},
     "output_type": "execute_result"
    }
   ],
   "source": [
    "cor=df.corr()\n",
    "cor"
   ]
  },
  {
   "cell_type": "code",
   "execution_count": 25,
   "id": "da052940",
   "metadata": {},
   "outputs": [
    {
     "data": {
      "text/plain": [
       "<Axes: >"
      ]
     },
     "execution_count": 25,
     "metadata": {},
     "output_type": "execute_result"
    },
    {
     "data": {
      "image/png": "[encoded data removed]",
      "text/plain": [
       "<Figure size 1000x600 with 2 Axes>"
      ]
     },
     "metadata": {},
     "output_type": "display_data"
    }
   ],
   "source": [
    "plt.figure(figsize=(10,6))\n",
    "sns.heatmap(df.corr(), annot = True, cmap = 'Blues')"
   ]
  },
  {
   "cell_type": "markdown",
   "id": "b22c8081",
   "metadata": {},
   "source": [
    "## Checking for outliers"
   ]
  },
  {
   "cell_type": "code",
   "execution_count": 26,
   "id": "12aea0ce",
   "metadata": {},
   "outputs": [
    {
     "data": {
      "image/png": "[encoded data removed]",
      "text/plain": [
       "<Figure size 1000x2000 with 10 Axes>"
      ]
     },
     "metadata": {},
     "output_type": "display_data"
    }
   ],
   "source": [
    "plt.figure(figsize=(10,20),facecolor='white')\n",
    "plotnumber=1\n",
    "for col in df.columns:\n",
    "    if plotnumber<=10:\n",
    "        ax=plt.subplot(2,5,plotnumber)\n",
    "        sns.boxplot(df[col])\n",
    "        plt.xlabel(col,fontsize=10)\n",
    "    plotnumber+=1\n",
    "plt.tight_layout()"
   ]
  },
  {
   "cell_type": "markdown",
   "id": "bb544cbb",
   "metadata": {},
   "source": [
    "We can see that outliers are presented in all the columns except Fe:Iron. We do not remove outliers from the target and categorical column so will not remove any outlier from Type of glass."
   ]
  },
  {
   "cell_type": "markdown",
   "id": "171b4cb7",
   "metadata": {},
   "source": [
    "## Removing the outliers"
   ]
  },
  {
   "cell_type": "code",
   "execution_count": 27,
   "id": "4a69ad9a",
   "metadata": {},
   "outputs": [
    {
     "data": {
      "text/html": [
       "<div>\n",
       "<style scoped>\n",
       "    .dataframe tbody tr th:only-of-type {\n",
       "        vertical-align: middle;\n",
       "    }\n",
       "\n",
       "    .dataframe tbody tr th {\n",
       "        vertical-align: top;\n",
       "    }\n",
       "\n",
       "    .dataframe thead th {\n",
       "        text-align: right;\n",
       "    }\n",
       "</style>\n",
       "<table border=\"1\" class=\"dataframe\">\n",
       "  <thead>\n",
       "    <tr style=\"text-align: right;\">\n",
       "      <th></th>\n",
       "      <th>RI: refractive index</th>\n",
       "      <th>Na: Sodium</th>\n",
       "      <th>Mg: Magnesium</th>\n",
       "      <th>Al: Aluminum</th>\n",
       "      <th>Si: Silicon</th>\n",
       "      <th>K: Potassium</th>\n",
       "      <th>Ca: Calcium</th>\n",
       "      <th>Ba: Barium</th>\n",
       "      <th>Fe: Iron</th>\n",
       "      <th>Type of glass</th>\n",
       "    </tr>\n",
       "  </thead>\n",
       "  <tbody>\n",
       "    <tr>\n",
       "      <th>0</th>\n",
       "      <td>0.244740</td>\n",
       "      <td>0.591880</td>\n",
       "      <td>0.566838</td>\n",
       "      <td>0.060224</td>\n",
       "      <td>0.100338</td>\n",
       "      <td>0.342041</td>\n",
       "      <td>0.840131</td>\n",
       "      <td>0.440699</td>\n",
       "      <td>0.681713</td>\n",
       "      <td>0.561084</td>\n",
       "    </tr>\n",
       "    <tr>\n",
       "      <th>1</th>\n",
       "      <td>0.717276</td>\n",
       "      <td>0.150946</td>\n",
       "      <td>0.554969</td>\n",
       "      <td>0.296823</td>\n",
       "      <td>0.435464</td>\n",
       "      <td>0.184051</td>\n",
       "      <td>0.881534</td>\n",
       "      <td>0.440699</td>\n",
       "      <td>0.681713</td>\n",
       "      <td>0.561084</td>\n",
       "    </tr>\n",
       "    <tr>\n",
       "      <th>2</th>\n",
       "      <td>0.228223</td>\n",
       "      <td>0.240996</td>\n",
       "      <td>0.587928</td>\n",
       "      <td>0.207590</td>\n",
       "      <td>0.054604</td>\n",
       "      <td>0.481328</td>\n",
       "      <td>0.523084</td>\n",
       "      <td>0.440699</td>\n",
       "      <td>0.681713</td>\n",
       "      <td>0.561084</td>\n",
       "    </tr>\n",
       "    <tr>\n",
       "      <th>3</th>\n",
       "      <td>0.307507</td>\n",
       "      <td>0.167507</td>\n",
       "      <td>0.571555</td>\n",
       "      <td>0.316148</td>\n",
       "      <td>0.551284</td>\n",
       "      <td>0.451717</td>\n",
       "      <td>0.643814</td>\n",
       "      <td>0.440699</td>\n",
       "      <td>0.681713</td>\n",
       "      <td>0.561084</td>\n",
       "    </tr>\n",
       "    <tr>\n",
       "      <th>4</th>\n",
       "      <td>0.790000</td>\n",
       "      <td>0.755419</td>\n",
       "      <td>0.569199</td>\n",
       "      <td>0.446593</td>\n",
       "      <td>0.409713</td>\n",
       "      <td>0.579815</td>\n",
       "      <td>0.643814</td>\n",
       "      <td>0.440699</td>\n",
       "      <td>1.769136</td>\n",
       "      <td>0.561084</td>\n",
       "    </tr>\n",
       "    <tr>\n",
       "      <th>...</th>\n",
       "      <td>...</td>\n",
       "      <td>...</td>\n",
       "      <td>...</td>\n",
       "      <td>...</td>\n",
       "      <td>...</td>\n",
       "      <td>...</td>\n",
       "      <td>...</td>\n",
       "      <td>...</td>\n",
       "      <td>...</td>\n",
       "      <td>...</td>\n",
       "    </tr>\n",
       "    <tr>\n",
       "      <th>208</th>\n",
       "      <td>0.700749</td>\n",
       "      <td>0.898085</td>\n",
       "      <td>1.984950</td>\n",
       "      <td>2.338124</td>\n",
       "      <td>0.054604</td>\n",
       "      <td>0.720352</td>\n",
       "      <td>0.216768</td>\n",
       "      <td>2.311385</td>\n",
       "      <td>0.681713</td>\n",
       "      <td>1.782266</td>\n",
       "    </tr>\n",
       "    <tr>\n",
       "      <th>209</th>\n",
       "      <td>0.495841</td>\n",
       "      <td>1.853443</td>\n",
       "      <td>1.984950</td>\n",
       "      <td>1.081611</td>\n",
       "      <td>0.525554</td>\n",
       "      <td>2.020518</td>\n",
       "      <td>0.380132</td>\n",
       "      <td>2.709650</td>\n",
       "      <td>0.681713</td>\n",
       "      <td>1.782266</td>\n",
       "    </tr>\n",
       "    <tr>\n",
       "      <th>210</th>\n",
       "      <td>0.758827</td>\n",
       "      <td>1.167545</td>\n",
       "      <td>1.984950</td>\n",
       "      <td>1.129522</td>\n",
       "      <td>0.987968</td>\n",
       "      <td>2.020518</td>\n",
       "      <td>0.348643</td>\n",
       "      <td>2.742333</td>\n",
       "      <td>0.681713</td>\n",
       "      <td>1.782266</td>\n",
       "    </tr>\n",
       "    <tr>\n",
       "      <th>211</th>\n",
       "      <td>0.608203</td>\n",
       "      <td>1.192041</td>\n",
       "      <td>1.984950</td>\n",
       "      <td>1.000677</td>\n",
       "      <td>1.231411</td>\n",
       "      <td>2.020518</td>\n",
       "      <td>0.317254</td>\n",
       "      <td>2.696385</td>\n",
       "      <td>0.681713</td>\n",
       "      <td>1.782266</td>\n",
       "    </tr>\n",
       "    <tr>\n",
       "      <th>212</th>\n",
       "      <td>0.409928</td>\n",
       "      <td>1.008318</td>\n",
       "      <td>1.984950</td>\n",
       "      <td>1.223940</td>\n",
       "      <td>0.911004</td>\n",
       "      <td>2.020518</td>\n",
       "      <td>0.208160</td>\n",
       "      <td>2.761624</td>\n",
       "      <td>0.681713</td>\n",
       "      <td>1.782266</td>\n",
       "    </tr>\n",
       "  </tbody>\n",
       "</table>\n",
       "<p>213 rows × 10 columns</p>\n",
       "</div>"
      ],
      "text/plain": [
       "     RI: refractive index  Na: Sodium  Mg: Magnesium  Al: Aluminum  \\\n",
       "0                0.244740    0.591880       0.566838      0.060224   \n",
       "1                0.717276    0.150946       0.554969      0.296823   \n",
       "2                0.228223    0.240996       0.587928      0.207590   \n",
       "3                0.307507    0.167507       0.571555      0.316148   \n",
       "4                0.790000    0.755419       0.569199      0.446593   \n",
       "..                    ...         ...            ...           ...   \n",
       "208              0.700749    0.898085       1.984950      2.338124   \n",
       "209              0.495841    1.853443       1.984950      1.081611   \n",
       "210              0.758827    1.167545       1.984950      1.129522   \n",
       "211              0.608203    1.192041       1.984950      1.000677   \n",
       "212              0.409928    1.008318       1.984950      1.223940   \n",
       "\n",
       "     Si: Silicon  K: Potassium  Ca: Calcium  Ba: Barium  Fe: Iron  \\\n",
       "0       0.100338      0.342041     0.840131    0.440699  0.681713   \n",
       "1       0.435464      0.184051     0.881534    0.440699  0.681713   \n",
       "2       0.054604      0.481328     0.523084    0.440699  0.681713   \n",
       "3       0.551284      0.451717     0.643814    0.440699  0.681713   \n",
       "4       0.409713      0.579815     0.643814    0.440699  1.769136   \n",
       "..           ...           ...          ...         ...       ...   \n",
       "208     0.054604      0.720352     0.216768    2.311385  0.681713   \n",
       "209     0.525554      2.020518     0.380132    2.709650  0.681713   \n",
       "210     0.987968      2.020518     0.348643    2.742333  0.681713   \n",
       "211     1.231411      2.020518     0.317254    2.696385  0.681713   \n",
       "212     0.911004      2.020518     0.208160    2.761624  0.681713   \n",
       "\n",
       "     Type of glass  \n",
       "0         0.561084  \n",
       "1         0.561084  \n",
       "2         0.561084  \n",
       "3         0.561084  \n",
       "4         0.561084  \n",
       "..             ...  \n",
       "208       1.782266  \n",
       "209       1.782266  \n",
       "210       1.782266  \n",
       "211       1.782266  \n",
       "212       1.782266  \n",
       "\n",
       "[213 rows x 10 columns]"
      ]
     },
     "execution_count": 27,
     "metadata": {},
     "output_type": "execute_result"
    }
   ],
   "source": [
    "from scipy.stats import zscore\n",
    "\n",
    "z=np.abs(zscore(df))\n",
    "z"
   ]
  },
  {
   "cell_type": "code",
   "execution_count": 28,
   "id": "6fb78ca6",
   "metadata": {},
   "outputs": [
    {
     "name": "stdout",
     "output_type": "stream",
     "text": [
      "(array([ 20, 105, 105, 105, 105, 106, 106, 106, 109, 110, 111, 111, 162,\n",
      "       162, 162, 170, 171, 183, 183, 183, 184, 187, 200, 206], dtype=int64), array([3, 0, 1, 4, 7, 0, 4, 6, 6, 6, 0, 6, 3, 4, 7, 5, 5, 1, 3, 4, 6, 4,\n",
      "       4, 7], dtype=int64))\n"
     ]
    }
   ],
   "source": [
    "threshold=3\n",
    "print(np.where(z>3))"
   ]
  },
  {
   "cell_type": "code",
   "execution_count": 29,
   "id": "0c246f68",
   "metadata": {},
   "outputs": [
    {
     "data": {
      "text/html": [
       "<div>\n",
       "<style scoped>\n",
       "    .dataframe tbody tr th:only-of-type {\n",
       "        vertical-align: middle;\n",
       "    }\n",
       "\n",
       "    .dataframe tbody tr th {\n",
       "        vertical-align: top;\n",
       "    }\n",
       "\n",
       "    .dataframe thead th {\n",
       "        text-align: right;\n",
       "    }\n",
       "</style>\n",
       "<table border=\"1\" class=\"dataframe\">\n",
       "  <thead>\n",
       "    <tr style=\"text-align: right;\">\n",
       "      <th></th>\n",
       "      <th>RI: refractive index</th>\n",
       "      <th>Na: Sodium</th>\n",
       "      <th>Mg: Magnesium</th>\n",
       "      <th>Al: Aluminum</th>\n",
       "      <th>Si: Silicon</th>\n",
       "      <th>K: Potassium</th>\n",
       "      <th>Ca: Calcium</th>\n",
       "      <th>Ba: Barium</th>\n",
       "      <th>Fe: Iron</th>\n",
       "      <th>Type of glass</th>\n",
       "    </tr>\n",
       "  </thead>\n",
       "  <tbody>\n",
       "    <tr>\n",
       "      <th>0</th>\n",
       "      <td>1.149176</td>\n",
       "      <td>13.89</td>\n",
       "      <td>1.532619</td>\n",
       "      <td>1.107932</td>\n",
       "      <td>4.174180</td>\n",
       "      <td>0.782974</td>\n",
       "      <td>1.985732</td>\n",
       "      <td>0.000000</td>\n",
       "      <td>0.00000</td>\n",
       "      <td>0</td>\n",
       "    </tr>\n",
       "    <tr>\n",
       "      <th>1</th>\n",
       "      <td>1.148815</td>\n",
       "      <td>13.53</td>\n",
       "      <td>1.525490</td>\n",
       "      <td>1.154800</td>\n",
       "      <td>4.179148</td>\n",
       "      <td>0.730614</td>\n",
       "      <td>1.981496</td>\n",
       "      <td>0.000000</td>\n",
       "      <td>0.00000</td>\n",
       "      <td>0</td>\n",
       "    </tr>\n",
       "    <tr>\n",
       "      <th>2</th>\n",
       "      <td>1.149189</td>\n",
       "      <td>13.21</td>\n",
       "      <td>1.545286</td>\n",
       "      <td>1.088587</td>\n",
       "      <td>4.171883</td>\n",
       "      <td>0.829134</td>\n",
       "      <td>2.018168</td>\n",
       "      <td>0.000000</td>\n",
       "      <td>0.00000</td>\n",
       "      <td>0</td>\n",
       "    </tr>\n",
       "    <tr>\n",
       "      <th>3</th>\n",
       "      <td>1.149129</td>\n",
       "      <td>13.27</td>\n",
       "      <td>1.535452</td>\n",
       "      <td>1.074337</td>\n",
       "      <td>4.180865</td>\n",
       "      <td>0.819321</td>\n",
       "      <td>2.005816</td>\n",
       "      <td>0.000000</td>\n",
       "      <td>0.00000</td>\n",
       "      <td>0</td>\n",
       "    </tr>\n",
       "    <tr>\n",
       "      <th>4</th>\n",
       "      <td>1.148760</td>\n",
       "      <td>12.79</td>\n",
       "      <td>1.534037</td>\n",
       "      <td>1.174460</td>\n",
       "      <td>4.178767</td>\n",
       "      <td>0.861774</td>\n",
       "      <td>2.005816</td>\n",
       "      <td>0.000000</td>\n",
       "      <td>0.63825</td>\n",
       "      <td>0</td>\n",
       "    </tr>\n",
       "    <tr>\n",
       "      <th>...</th>\n",
       "      <td>...</td>\n",
       "      <td>...</td>\n",
       "      <td>...</td>\n",
       "      <td>...</td>\n",
       "      <td>...</td>\n",
       "      <td>...</td>\n",
       "      <td>...</td>\n",
       "      <td>...</td>\n",
       "      <td>...</td>\n",
       "      <td>...</td>\n",
       "    </tr>\n",
       "    <tr>\n",
       "      <th>208</th>\n",
       "      <td>1.148828</td>\n",
       "      <td>14.14</td>\n",
       "      <td>0.000000</td>\n",
       "      <td>1.422757</td>\n",
       "      <td>4.171883</td>\n",
       "      <td>0.430887</td>\n",
       "      <td>2.093860</td>\n",
       "      <td>1.019613</td>\n",
       "      <td>0.00000</td>\n",
       "      <td>1</td>\n",
       "    </tr>\n",
       "    <tr>\n",
       "      <th>209</th>\n",
       "      <td>1.148985</td>\n",
       "      <td>14.92</td>\n",
       "      <td>0.000000</td>\n",
       "      <td>1.257818</td>\n",
       "      <td>4.180484</td>\n",
       "      <td>0.000000</td>\n",
       "      <td>2.032793</td>\n",
       "      <td>1.167165</td>\n",
       "      <td>0.00000</td>\n",
       "      <td>1</td>\n",
       "    </tr>\n",
       "    <tr>\n",
       "      <th>210</th>\n",
       "      <td>1.149943</td>\n",
       "      <td>14.36</td>\n",
       "      <td>0.000000</td>\n",
       "      <td>1.264107</td>\n",
       "      <td>4.187339</td>\n",
       "      <td>0.000000</td>\n",
       "      <td>2.036014</td>\n",
       "      <td>1.179274</td>\n",
       "      <td>0.00000</td>\n",
       "      <td>1</td>\n",
       "    </tr>\n",
       "    <tr>\n",
       "      <th>211</th>\n",
       "      <td>1.148899</td>\n",
       "      <td>14.38</td>\n",
       "      <td>0.000000</td>\n",
       "      <td>1.247194</td>\n",
       "      <td>4.190948</td>\n",
       "      <td>0.000000</td>\n",
       "      <td>2.039226</td>\n",
       "      <td>1.162251</td>\n",
       "      <td>0.00000</td>\n",
       "      <td>1</td>\n",
       "    </tr>\n",
       "    <tr>\n",
       "      <th>212</th>\n",
       "      <td>1.149050</td>\n",
       "      <td>14.23</td>\n",
       "      <td>0.000000</td>\n",
       "      <td>1.276501</td>\n",
       "      <td>4.186198</td>\n",
       "      <td>0.000000</td>\n",
       "      <td>2.050387</td>\n",
       "      <td>1.186421</td>\n",
       "      <td>0.00000</td>\n",
       "      <td>1</td>\n",
       "    </tr>\n",
       "  </tbody>\n",
       "</table>\n",
       "<p>199 rows × 10 columns</p>\n",
       "</div>"
      ],
      "text/plain": [
       "     RI: refractive index  Na: Sodium  Mg: Magnesium  Al: Aluminum  \\\n",
       "0                1.149176       13.89       1.532619      1.107932   \n",
       "1                1.148815       13.53       1.525490      1.154800   \n",
       "2                1.149189       13.21       1.545286      1.088587   \n",
       "3                1.149129       13.27       1.535452      1.074337   \n",
       "4                1.148760       12.79       1.534037      1.174460   \n",
       "..                    ...         ...            ...           ...   \n",
       "208              1.148828       14.14       0.000000      1.422757   \n",
       "209              1.148985       14.92       0.000000      1.257818   \n",
       "210              1.149943       14.36       0.000000      1.264107   \n",
       "211              1.148899       14.38       0.000000      1.247194   \n",
       "212              1.149050       14.23       0.000000      1.276501   \n",
       "\n",
       "     Si: Silicon  K: Potassium  Ca: Calcium  Ba: Barium  Fe: Iron  \\\n",
       "0       4.174180      0.782974     1.985732    0.000000   0.00000   \n",
       "1       4.179148      0.730614     1.981496    0.000000   0.00000   \n",
       "2       4.171883      0.829134     2.018168    0.000000   0.00000   \n",
       "3       4.180865      0.819321     2.005816    0.000000   0.00000   \n",
       "4       4.178767      0.861774     2.005816    0.000000   0.63825   \n",
       "..           ...           ...          ...         ...       ...   \n",
       "208     4.171883      0.430887     2.093860    1.019613   0.00000   \n",
       "209     4.180484      0.000000     2.032793    1.167165   0.00000   \n",
       "210     4.187339      0.000000     2.036014    1.179274   0.00000   \n",
       "211     4.190948      0.000000     2.039226    1.162251   0.00000   \n",
       "212     4.186198      0.000000     2.050387    1.186421   0.00000   \n",
       "\n",
       "     Type of glass  \n",
       "0                0  \n",
       "1                0  \n",
       "2                0  \n",
       "3                0  \n",
       "4                0  \n",
       "..             ...  \n",
       "208              1  \n",
       "209              1  \n",
       "210              1  \n",
       "211              1  \n",
       "212              1  \n",
       "\n",
       "[199 rows x 10 columns]"
      ]
     },
     "execution_count": 29,
     "metadata": {},
     "output_type": "execute_result"
    }
   ],
   "source": [
    "df1=df[(z<3).all(axis=1)]\n",
    "df1"
   ]
  },
  {
   "cell_type": "markdown",
   "id": "451bd625",
   "metadata": {},
   "source": [
    "14 rows have been removed as outliers."
   ]
  },
  {
   "cell_type": "markdown",
   "id": "a6bbac77",
   "metadata": {},
   "source": [
    "# Checking Variance Inflation Factor VIF"
   ]
  },
  {
   "cell_type": "code",
   "execution_count": 30,
   "id": "efb76151",
   "metadata": {},
   "outputs": [],
   "source": [
    "x=df1.drop('Type of glass', axis=1)\n",
    "y=df1['Type of glass']"
   ]
  },
  {
   "cell_type": "code",
   "execution_count": 31,
   "id": "71eb681c",
   "metadata": {},
   "outputs": [
    {
     "data": {
      "text/html": [
       "<div>\n",
       "<style scoped>\n",
       "    .dataframe tbody tr th:only-of-type {\n",
       "        vertical-align: middle;\n",
       "    }\n",
       "\n",
       "    .dataframe tbody tr th {\n",
       "        vertical-align: top;\n",
       "    }\n",
       "\n",
       "    .dataframe thead th {\n",
       "        text-align: right;\n",
       "    }\n",
       "</style>\n",
       "<table border=\"1\" class=\"dataframe\">\n",
       "  <thead>\n",
       "    <tr style=\"text-align: right;\">\n",
       "      <th></th>\n",
       "      <th>VIF values</th>\n",
       "      <th>Features</th>\n",
       "    </tr>\n",
       "  </thead>\n",
       "  <tbody>\n",
       "    <tr>\n",
       "      <th>0</th>\n",
       "      <td>588677.308803</td>\n",
       "      <td>RI: refractive index</td>\n",
       "    </tr>\n",
       "    <tr>\n",
       "      <th>1</th>\n",
       "      <td>2493.990025</td>\n",
       "      <td>Na: Sodium</td>\n",
       "    </tr>\n",
       "    <tr>\n",
       "      <th>2</th>\n",
       "      <td>69.868346</td>\n",
       "      <td>Mg: Magnesium</td>\n",
       "    </tr>\n",
       "    <tr>\n",
       "      <th>3</th>\n",
       "      <td>232.964540</td>\n",
       "      <td>Al: Aluminum</td>\n",
       "    </tr>\n",
       "    <tr>\n",
       "      <th>4</th>\n",
       "      <td>424551.864942</td>\n",
       "      <td>Si: Silicon</td>\n",
       "    </tr>\n",
       "    <tr>\n",
       "      <th>5</th>\n",
       "      <td>24.900828</td>\n",
       "      <td>K: Potassium</td>\n",
       "    </tr>\n",
       "    <tr>\n",
       "      <th>6</th>\n",
       "      <td>5764.485470</td>\n",
       "      <td>Ca: Calcium</td>\n",
       "    </tr>\n",
       "    <tr>\n",
       "      <th>7</th>\n",
       "      <td>4.261474</td>\n",
       "      <td>Ba: Barium</td>\n",
       "    </tr>\n",
       "    <tr>\n",
       "      <th>8</th>\n",
       "      <td>1.606135</td>\n",
       "      <td>Fe: Iron</td>\n",
       "    </tr>\n",
       "  </tbody>\n",
       "</table>\n",
       "</div>"
      ],
      "text/plain": [
       "      VIF values              Features\n",
       "0  588677.308803  RI: refractive index\n",
       "1    2493.990025            Na: Sodium\n",
       "2      69.868346         Mg: Magnesium\n",
       "3     232.964540          Al: Aluminum\n",
       "4  424551.864942           Si: Silicon\n",
       "5      24.900828          K: Potassium\n",
       "6    5764.485470           Ca: Calcium\n",
       "7       4.261474            Ba: Barium\n",
       "8       1.606135              Fe: Iron"
      ]
     },
     "execution_count": 31,
     "metadata": {},
     "output_type": "execute_result"
    }
   ],
   "source": [
    "from statsmodels.stats.outliers_influence import variance_inflation_factor\n",
    "\n",
    "vif=pd.DataFrame()\n",
    "vif['VIF values']=[variance_inflation_factor(x.values, i) for i in range(len(x.columns))]\n",
    "vif['Features']=x.columns\n",
    "\n",
    "vif"
   ]
  },
  {
   "cell_type": "markdown",
   "id": "979eb359",
   "metadata": {},
   "source": [
    "# Machine Learning"
   ]
  },
  {
   "cell_type": "code",
   "execution_count": 32,
   "id": "dde38b40",
   "metadata": {},
   "outputs": [],
   "source": [
    "from sklearn.model_selection import train_test_split\n",
    "from sklearn.linear_model import LinearRegression\n",
    "from sklearn.linear_model import LogisticRegression\n",
    "from sklearn.naive_bayes import GaussianNB\n",
    "from sklearn.svm import SVC\n",
    "from sklearn.tree import DecisionTreeClassifier\n",
    "from sklearn.ensemble import RandomForestClassifier\n",
    "from sklearn.neighbors import KNeighborsClassifier\n",
    "from sklearn.ensemble import AdaBoostClassifier\n",
    "from sklearn.ensemble import GradientBoostingClassifier\n",
    "from sklearn.ensemble import BaggingClassifier\n",
    "from sklearn.ensemble import ExtraTreesClassifier\n",
    "from sklearn.metrics import accuracy_score, confusion_matrix,classification_report,f1_score\n",
    "from sklearn.metrics import mean_squared_error, mean_absolute_error, r2_score"
   ]
  },
  {
   "cell_type": "markdown",
   "id": "c8317bbf",
   "metadata": {},
   "source": [
    "## Creating train test split"
   ]
  },
  {
   "cell_type": "code",
   "execution_count": 33,
   "id": "fc4f0d6d",
   "metadata": {},
   "outputs": [
    {
     "data": {
      "text/html": [
       "<div>\n",
       "<style scoped>\n",
       "    .dataframe tbody tr th:only-of-type {\n",
       "        vertical-align: middle;\n",
       "    }\n",
       "\n",
       "    .dataframe tbody tr th {\n",
       "        vertical-align: top;\n",
       "    }\n",
       "\n",
       "    .dataframe thead th {\n",
       "        text-align: right;\n",
       "    }\n",
       "</style>\n",
       "<table border=\"1\" class=\"dataframe\">\n",
       "  <thead>\n",
       "    <tr style=\"text-align: right;\">\n",
       "      <th></th>\n",
       "      <th>RI: refractive index</th>\n",
       "      <th>Na: Sodium</th>\n",
       "      <th>Mg: Magnesium</th>\n",
       "      <th>Al: Aluminum</th>\n",
       "      <th>Si: Silicon</th>\n",
       "      <th>K: Potassium</th>\n",
       "      <th>Ca: Calcium</th>\n",
       "      <th>Ba: Barium</th>\n",
       "      <th>Fe: Iron</th>\n",
       "    </tr>\n",
       "  </thead>\n",
       "  <tbody>\n",
       "    <tr>\n",
       "      <th>0</th>\n",
       "      <td>1.149176</td>\n",
       "      <td>13.89</td>\n",
       "      <td>1.532619</td>\n",
       "      <td>1.107932</td>\n",
       "      <td>4.174180</td>\n",
       "      <td>0.782974</td>\n",
       "      <td>1.985732</td>\n",
       "      <td>0.000000</td>\n",
       "      <td>0.00000</td>\n",
       "    </tr>\n",
       "    <tr>\n",
       "      <th>1</th>\n",
       "      <td>1.148815</td>\n",
       "      <td>13.53</td>\n",
       "      <td>1.525490</td>\n",
       "      <td>1.154800</td>\n",
       "      <td>4.179148</td>\n",
       "      <td>0.730614</td>\n",
       "      <td>1.981496</td>\n",
       "      <td>0.000000</td>\n",
       "      <td>0.00000</td>\n",
       "    </tr>\n",
       "    <tr>\n",
       "      <th>2</th>\n",
       "      <td>1.149189</td>\n",
       "      <td>13.21</td>\n",
       "      <td>1.545286</td>\n",
       "      <td>1.088587</td>\n",
       "      <td>4.171883</td>\n",
       "      <td>0.829134</td>\n",
       "      <td>2.018168</td>\n",
       "      <td>0.000000</td>\n",
       "      <td>0.00000</td>\n",
       "    </tr>\n",
       "    <tr>\n",
       "      <th>3</th>\n",
       "      <td>1.149129</td>\n",
       "      <td>13.27</td>\n",
       "      <td>1.535452</td>\n",
       "      <td>1.074337</td>\n",
       "      <td>4.180865</td>\n",
       "      <td>0.819321</td>\n",
       "      <td>2.005816</td>\n",
       "      <td>0.000000</td>\n",
       "      <td>0.00000</td>\n",
       "    </tr>\n",
       "    <tr>\n",
       "      <th>4</th>\n",
       "      <td>1.148760</td>\n",
       "      <td>12.79</td>\n",
       "      <td>1.534037</td>\n",
       "      <td>1.174460</td>\n",
       "      <td>4.178767</td>\n",
       "      <td>0.861774</td>\n",
       "      <td>2.005816</td>\n",
       "      <td>0.000000</td>\n",
       "      <td>0.63825</td>\n",
       "    </tr>\n",
       "    <tr>\n",
       "      <th>...</th>\n",
       "      <td>...</td>\n",
       "      <td>...</td>\n",
       "      <td>...</td>\n",
       "      <td>...</td>\n",
       "      <td>...</td>\n",
       "      <td>...</td>\n",
       "      <td>...</td>\n",
       "      <td>...</td>\n",
       "      <td>...</td>\n",
       "    </tr>\n",
       "    <tr>\n",
       "      <th>208</th>\n",
       "      <td>1.148828</td>\n",
       "      <td>14.14</td>\n",
       "      <td>0.000000</td>\n",
       "      <td>1.422757</td>\n",
       "      <td>4.171883</td>\n",
       "      <td>0.430887</td>\n",
       "      <td>2.093860</td>\n",
       "      <td>1.019613</td>\n",
       "      <td>0.00000</td>\n",
       "    </tr>\n",
       "    <tr>\n",
       "      <th>209</th>\n",
       "      <td>1.148985</td>\n",
       "      <td>14.92</td>\n",
       "      <td>0.000000</td>\n",
       "      <td>1.257818</td>\n",
       "      <td>4.180484</td>\n",
       "      <td>0.000000</td>\n",
       "      <td>2.032793</td>\n",
       "      <td>1.167165</td>\n",
       "      <td>0.00000</td>\n",
       "    </tr>\n",
       "    <tr>\n",
       "      <th>210</th>\n",
       "      <td>1.149943</td>\n",
       "      <td>14.36</td>\n",
       "      <td>0.000000</td>\n",
       "      <td>1.264107</td>\n",
       "      <td>4.187339</td>\n",
       "      <td>0.000000</td>\n",
       "      <td>2.036014</td>\n",
       "      <td>1.179274</td>\n",
       "      <td>0.00000</td>\n",
       "    </tr>\n",
       "    <tr>\n",
       "      <th>211</th>\n",
       "      <td>1.148899</td>\n",
       "      <td>14.38</td>\n",
       "      <td>0.000000</td>\n",
       "      <td>1.247194</td>\n",
       "      <td>4.190948</td>\n",
       "      <td>0.000000</td>\n",
       "      <td>2.039226</td>\n",
       "      <td>1.162251</td>\n",
       "      <td>0.00000</td>\n",
       "    </tr>\n",
       "    <tr>\n",
       "      <th>212</th>\n",
       "      <td>1.149050</td>\n",
       "      <td>14.23</td>\n",
       "      <td>0.000000</td>\n",
       "      <td>1.276501</td>\n",
       "      <td>4.186198</td>\n",
       "      <td>0.000000</td>\n",
       "      <td>2.050387</td>\n",
       "      <td>1.186421</td>\n",
       "      <td>0.00000</td>\n",
       "    </tr>\n",
       "  </tbody>\n",
       "</table>\n",
       "<p>199 rows × 9 columns</p>\n",
       "</div>"
      ],
      "text/plain": [
       "     RI: refractive index  Na: Sodium  Mg: Magnesium  Al: Aluminum  \\\n",
       "0                1.149176       13.89       1.532619      1.107932   \n",
       "1                1.148815       13.53       1.525490      1.154800   \n",
       "2                1.149189       13.21       1.545286      1.088587   \n",
       "3                1.149129       13.27       1.535452      1.074337   \n",
       "4                1.148760       12.79       1.534037      1.174460   \n",
       "..                    ...         ...            ...           ...   \n",
       "208              1.148828       14.14       0.000000      1.422757   \n",
       "209              1.148985       14.92       0.000000      1.257818   \n",
       "210              1.149943       14.36       0.000000      1.264107   \n",
       "211              1.148899       14.38       0.000000      1.247194   \n",
       "212              1.149050       14.23       0.000000      1.276501   \n",
       "\n",
       "     Si: Silicon  K: Potassium  Ca: Calcium  Ba: Barium  Fe: Iron  \n",
       "0       4.174180      0.782974     1.985732    0.000000   0.00000  \n",
       "1       4.179148      0.730614     1.981496    0.000000   0.00000  \n",
       "2       4.171883      0.829134     2.018168    0.000000   0.00000  \n",
       "3       4.180865      0.819321     2.005816    0.000000   0.00000  \n",
       "4       4.178767      0.861774     2.005816    0.000000   0.63825  \n",
       "..           ...           ...          ...         ...       ...  \n",
       "208     4.171883      0.430887     2.093860    1.019613   0.00000  \n",
       "209     4.180484      0.000000     2.032793    1.167165   0.00000  \n",
       "210     4.187339      0.000000     2.036014    1.179274   0.00000  \n",
       "211     4.190948      0.000000     2.039226    1.162251   0.00000  \n",
       "212     4.186198      0.000000     2.050387    1.186421   0.00000  \n",
       "\n",
       "[199 rows x 9 columns]"
      ]
     },
     "execution_count": 33,
     "metadata": {},
     "output_type": "execute_result"
    }
   ],
   "source": [
    "x=df1.drop('Type of glass', axis=1)\n",
    "x"
   ]
  },
  {
   "cell_type": "code",
   "execution_count": 34,
   "id": "8450d517",
   "metadata": {},
   "outputs": [
    {
     "data": {
      "text/plain": [
       "0      0\n",
       "1      0\n",
       "2      0\n",
       "3      0\n",
       "4      0\n",
       "      ..\n",
       "208    1\n",
       "209    1\n",
       "210    1\n",
       "211    1\n",
       "212    1\n",
       "Name: Type of glass, Length: 199, dtype: int64"
      ]
     },
     "execution_count": 34,
     "metadata": {},
     "output_type": "execute_result"
    }
   ],
   "source": [
    "y=y=df1['Type of glass']\n",
    "y"
   ]
  },
  {
   "cell_type": "code",
   "execution_count": 35,
   "id": "8fe99484",
   "metadata": {},
   "outputs": [],
   "source": [
    "x_train,x_test,y_train,y_test=train_test_split(x,y,test_size=0.3, random_state=10)"
   ]
  },
  {
   "cell_type": "code",
   "execution_count": 36,
   "id": "7195ea09",
   "metadata": {},
   "outputs": [
    {
     "data": {
      "text/plain": [
       "(139, 9)"
      ]
     },
     "execution_count": 36,
     "metadata": {},
     "output_type": "execute_result"
    }
   ],
   "source": [
    "x_train.shape"
   ]
  },
  {
   "cell_type": "code",
   "execution_count": 37,
   "id": "e32093fc",
   "metadata": {},
   "outputs": [
    {
     "data": {
      "text/plain": [
       "(139,)"
      ]
     },
     "execution_count": 37,
     "metadata": {},
     "output_type": "execute_result"
    }
   ],
   "source": [
    "y_train.shape"
   ]
  },
  {
   "cell_type": "code",
   "execution_count": 38,
   "id": "4ac4e7e6",
   "metadata": {},
   "outputs": [
    {
     "data": {
      "text/plain": [
       "(60, 9)"
      ]
     },
     "execution_count": 38,
     "metadata": {},
     "output_type": "execute_result"
    }
   ],
   "source": [
    "x_test.shape"
   ]
  },
  {
   "cell_type": "code",
   "execution_count": 39,
   "id": "65d4e479",
   "metadata": {},
   "outputs": [
    {
     "data": {
      "text/plain": [
       "(60,)"
      ]
     },
     "execution_count": 39,
     "metadata": {},
     "output_type": "execute_result"
    }
   ],
   "source": [
    "y_test.shape"
   ]
  },
  {
   "cell_type": "markdown",
   "id": "d4242390",
   "metadata": {},
   "source": [
    "We have classification problem."
   ]
  },
  {
   "cell_type": "markdown",
   "id": "fa62a6e9",
   "metadata": {},
   "source": [
    "## GaussianNB"
   ]
  },
  {
   "cell_type": "code",
   "execution_count": 40,
   "id": "b3c4ab71",
   "metadata": {},
   "outputs": [],
   "source": [
    "gnb=GaussianNB()"
   ]
  },
  {
   "cell_type": "code",
   "execution_count": 41,
   "id": "52f86dd0",
   "metadata": {},
   "outputs": [
    {
     "data": {
      "text/html": [
       "<style>#sk-container-id-1 {color: black;background-color: white;}#sk-container-id-1 pre{padding: 0;}#sk-container-id-1 div.sk-toggleable {background-color: white;}#sk-container-id-1 label.sk-toggleable__label {cursor: pointer;display: block;width: 100%;margin-bottom: 0;padding: 0.3em;box-sizing: border-box;text-align: center;}#sk-container-id-1 label.sk-toggleable__label-arrow:before {content: \"▸\";float: left;margin-right: 0.25em;color: #696969;}#sk-container-id-1 label.sk-toggleable__label-arrow:hover:before {color: black;}#sk-container-id-1 div.sk-estimator:hover label.sk-toggleable__label-arrow:before {color: black;}#sk-container-id-1 div.sk-toggleable__content {max-height: 0;max-width: 0;overflow: hidden;text-align: left;background-color: #f0f8ff;}#sk-container-id-1 div.sk-toggleable__content pre {margin: 0.2em;color: black;border-radius: 0.25em;background-color: #f0f8ff;}#sk-container-id-1 input.sk-toggleable__control:checked~div.sk-toggleable__content {max-height: 200px;max-width: 100%;overflow: auto;}#sk-container-id-1 input.sk-toggleable__control:checked~label.sk-toggleable__label-arrow:before {content: \"▾\";}#sk-container-id-1 div.sk-estimator input.sk-toggleable__control:checked~label.sk-toggleable__label {background-color: #d4ebff;}#sk-container-id-1 div.sk-label input.sk-toggleable__control:checked~label.sk-toggleable__label {background-color: #d4ebff;}#sk-container-id-1 input.sk-hidden--visually {border: 0;clip: rect(1px 1px 1px 1px);clip: rect(1px, 1px, 1px, 1px);height: 1px;margin: -1px;overflow: hidden;padding: 0;position: absolute;width: 1px;}#sk-container-id-1 div.sk-estimator {font-family: monospace;background-color: #f0f8ff;border: 1px dotted black;border-radius: 0.25em;box-sizing: border-box;margin-bottom: 0.5em;}#sk-container-id-1 div.sk-estimator:hover {background-color: #d4ebff;}#sk-container-id-1 div.sk-parallel-item::after {content: \"\";width: 100%;border-bottom: 1px solid gray;flex-grow: 1;}#sk-container-id-1 div.sk-label:hover label.sk-toggleable__label {background-color: #d4ebff;}#sk-container-id-1 div.sk-serial::before {content: \"\";position: absolute;border-left: 1px solid gray;box-sizing: border-box;top: 0;bottom: 0;left: 50%;z-index: 0;}#sk-container-id-1 div.sk-serial {display: flex;flex-direction: column;align-items: center;background-color: white;padding-right: 0.2em;padding-left: 0.2em;position: relative;}#sk-container-id-1 div.sk-item {position: relative;z-index: 1;}#sk-container-id-1 div.sk-parallel {display: flex;align-items: stretch;justify-content: center;background-color: white;position: relative;}#sk-container-id-1 div.sk-item::before, #sk-container-id-1 div.sk-parallel-item::before {content: \"\";position: absolute;border-left: 1px solid gray;box-sizing: border-box;top: 0;bottom: 0;left: 50%;z-index: -1;}#sk-container-id-1 div.sk-parallel-item {display: flex;flex-direction: column;z-index: 1;position: relative;background-color: white;}#sk-container-id-1 div.sk-parallel-item:first-child::after {align-self: flex-end;width: 50%;}#sk-container-id-1 div.sk-parallel-item:last-child::after {align-self: flex-start;width: 50%;}#sk-container-id-1 div.sk-parallel-item:only-child::after {width: 0;}#sk-container-id-1 div.sk-dashed-wrapped {border: 1px dashed gray;margin: 0 0.4em 0.5em 0.4em;box-sizing: border-box;padding-bottom: 0.4em;background-color: white;}#sk-container-id-1 div.sk-label label {font-family: monospace;font-weight: bold;display: inline-block;line-height: 1.2em;}#sk-container-id-1 div.sk-label-container {text-align: center;}#sk-container-id-1 div.sk-container {/* jupyter's `normalize.less` sets `[hidden] { display: none; }` but bootstrap.min.css set `[hidden] { display: none !important; }` so we also need the `!important` here to be able to override the default hidden behavior on the sphinx rendered scikit-learn.org. See: https://github.com/scikit-learn/scikit-learn/issues/21755 */display: inline-block !important;position: relative;}#sk-container-id-1 div.sk-text-repr-fallback {display: none;}</style><div id=\"sk-container-id-1\" class=\"sk-top-container\"><div class=\"sk-text-repr-fallback\"><pre>GaussianNB()</pre><b>In a Jupyter environment, please rerun this cell to show the HTML representation or trust the notebook. <br />On GitHub, the HTML representation is unable to render, please try loading this page with nbviewer.org.</b></div><div class=\"sk-container\" hidden><div class=\"sk-item\"><div class=\"sk-estimator sk-toggleable\"><input class=\"sk-toggleable__control sk-hidden--visually\" id=\"sk-estimator-id-1\" type=\"checkbox\" checked><label for=\"sk-estimator-id-1\" class=\"sk-toggleable__label sk-toggleable__label-arrow\">GaussianNB</label><div class=\"sk-toggleable__content\"><pre>GaussianNB()</pre></div></div></div></div></div>"
      ],
      "text/plain": [
       "GaussianNB()"
      ]
     },
     "execution_count": 41,
     "metadata": {},
     "output_type": "execute_result"
    }
   ],
   "source": [
    "gnb.fit(x_train,y_train)"
   ]
  },
  {
   "cell_type": "code",
   "execution_count": 42,
   "id": "2ecb01e7",
   "metadata": {},
   "outputs": [
    {
     "data": {
      "text/plain": [
       "array([1, 0, 0, 1, 0, 0, 1, 0, 0, 0, 1, 0, 0, 0, 1, 0, 0, 0, 1, 0, 0, 0,\n",
       "       1, 0, 0, 0, 1, 0, 0, 1, 1, 0, 0, 0, 0, 1, 1, 1, 0, 1, 1, 0, 0, 0,\n",
       "       0, 0, 1, 1, 0, 1, 0, 0, 0, 0, 0, 0, 1, 0, 0, 0], dtype=int64)"
      ]
     },
     "execution_count": 42,
     "metadata": {},
     "output_type": "execute_result"
    }
   ],
   "source": [
    "gnbpred=gnb.predict(x_test)\n",
    "gnbpred"
   ]
  },
  {
   "cell_type": "code",
   "execution_count": 43,
   "id": "78a71bff",
   "metadata": {},
   "outputs": [
    {
     "name": "stdout",
     "output_type": "stream",
     "text": [
      "Accuracy Score of GaussianNB:  0.9\n"
     ]
    }
   ],
   "source": [
    "print('Accuracy Score of GaussianNB: ', accuracy_score(y_test, gnbpred))"
   ]
  },
  {
   "cell_type": "code",
   "execution_count": 44,
   "id": "180a1ed8",
   "metadata": {},
   "outputs": [
    {
     "name": "stdout",
     "output_type": "stream",
     "text": [
      "[[41  6]\n",
      " [ 0 13]]\n"
     ]
    }
   ],
   "source": [
    "print(confusion_matrix(y_test, gnbpred))"
   ]
  },
  {
   "cell_type": "code",
   "execution_count": 45,
   "id": "b52d32b2",
   "metadata": {},
   "outputs": [
    {
     "name": "stdout",
     "output_type": "stream",
     "text": [
      "              precision    recall  f1-score   support\n",
      "\n",
      "           0       1.00      0.87      0.93        47\n",
      "           1       0.68      1.00      0.81        13\n",
      "\n",
      "    accuracy                           0.90        60\n",
      "   macro avg       0.84      0.94      0.87        60\n",
      "weighted avg       0.93      0.90      0.91        60\n",
      "\n"
     ]
    }
   ],
   "source": [
    "print(classification_report(y_test,gnbpred))"
   ]
  },
  {
   "cell_type": "markdown",
   "id": "1fdbb072",
   "metadata": {},
   "source": [
    "GaussianNB gives us also 90% accuracy."
   ]
  },
  {
   "cell_type": "markdown",
   "id": "df90cdba",
   "metadata": {},
   "source": [
    "## KNN"
   ]
  },
  {
   "cell_type": "code",
   "execution_count": 46,
   "id": "0e562e30",
   "metadata": {},
   "outputs": [],
   "source": [
    "knn=KNeighborsClassifier(n_neighbors=13)"
   ]
  },
  {
   "cell_type": "code",
   "execution_count": 47,
   "id": "cd0f490e",
   "metadata": {},
   "outputs": [
    {
     "data": {
      "text/html": [
       "<style>#sk-container-id-2 {color: black;background-color: white;}#sk-container-id-2 pre{padding: 0;}#sk-container-id-2 div.sk-toggleable {background-color: white;}#sk-container-id-2 label.sk-toggleable__label {cursor: pointer;display: block;width: 100%;margin-bottom: 0;padding: 0.3em;box-sizing: border-box;text-align: center;}#sk-container-id-2 label.sk-toggleable__label-arrow:before {content: \"▸\";float: left;margin-right: 0.25em;color: #696969;}#sk-container-id-2 label.sk-toggleable__label-arrow:hover:before {color: black;}#sk-container-id-2 div.sk-estimator:hover label.sk-toggleable__label-arrow:before {color: black;}#sk-container-id-2 div.sk-toggleable__content {max-height: 0;max-width: 0;overflow: hidden;text-align: left;background-color: #f0f8ff;}#sk-container-id-2 div.sk-toggleable__content pre {margin: 0.2em;color: black;border-radius: 0.25em;background-color: #f0f8ff;}#sk-container-id-2 input.sk-toggleable__control:checked~div.sk-toggleable__content {max-height: 200px;max-width: 100%;overflow: auto;}#sk-container-id-2 input.sk-toggleable__control:checked~label.sk-toggleable__label-arrow:before {content: \"▾\";}#sk-container-id-2 div.sk-estimator input.sk-toggleable__control:checked~label.sk-toggleable__label {background-color: #d4ebff;}#sk-container-id-2 div.sk-label input.sk-toggleable__control:checked~label.sk-toggleable__label {background-color: #d4ebff;}#sk-container-id-2 input.sk-hidden--visually {border: 0;clip: rect(1px 1px 1px 1px);clip: rect(1px, 1px, 1px, 1px);height: 1px;margin: -1px;overflow: hidden;padding: 0;position: absolute;width: 1px;}#sk-container-id-2 div.sk-estimator {font-family: monospace;background-color: #f0f8ff;border: 1px dotted black;border-radius: 0.25em;box-sizing: border-box;margin-bottom: 0.5em;}#sk-container-id-2 div.sk-estimator:hover {background-color: #d4ebff;}#sk-container-id-2 div.sk-parallel-item::after {content: \"\";width: 100%;border-bottom: 1px solid gray;flex-grow: 1;}#sk-container-id-2 div.sk-label:hover label.sk-toggleable__label {background-color: #d4ebff;}#sk-container-id-2 div.sk-serial::before {content: \"\";position: absolute;border-left: 1px solid gray;box-sizing: border-box;top: 0;bottom: 0;left: 50%;z-index: 0;}#sk-container-id-2 div.sk-serial {display: flex;flex-direction: column;align-items: center;background-color: white;padding-right: 0.2em;padding-left: 0.2em;position: relative;}#sk-container-id-2 div.sk-item {position: relative;z-index: 1;}#sk-container-id-2 div.sk-parallel {display: flex;align-items: stretch;justify-content: center;background-color: white;position: relative;}#sk-container-id-2 div.sk-item::before, #sk-container-id-2 div.sk-parallel-item::before {content: \"\";position: absolute;border-left: 1px solid gray;box-sizing: border-box;top: 0;bottom: 0;left: 50%;z-index: -1;}#sk-container-id-2 div.sk-parallel-item {display: flex;flex-direction: column;z-index: 1;position: relative;background-color: white;}#sk-container-id-2 div.sk-parallel-item:first-child::after {align-self: flex-end;width: 50%;}#sk-container-id-2 div.sk-parallel-item:last-child::after {align-self: flex-start;width: 50%;}#sk-container-id-2 div.sk-parallel-item:only-child::after {width: 0;}#sk-container-id-2 div.sk-dashed-wrapped {border: 1px dashed gray;margin: 0 0.4em 0.5em 0.4em;box-sizing: border-box;padding-bottom: 0.4em;background-color: white;}#sk-container-id-2 div.sk-label label {font-family: monospace;font-weight: bold;display: inline-block;line-height: 1.2em;}#sk-container-id-2 div.sk-label-container {text-align: center;}#sk-container-id-2 div.sk-container {/* jupyter's `normalize.less` sets `[hidden] { display: none; }` but bootstrap.min.css set `[hidden] { display: none !important; }` so we also need the `!important` here to be able to override the default hidden behavior on the sphinx rendered scikit-learn.org. See: https://github.com/scikit-learn/scikit-learn/issues/21755 */display: inline-block !important;position: relative;}#sk-container-id-2 div.sk-text-repr-fallback {display: none;}</style><div id=\"sk-container-id-2\" class=\"sk-top-container\"><div class=\"sk-text-repr-fallback\"><pre>KNeighborsClassifier(n_neighbors=13)</pre><b>In a Jupyter environment, please rerun this cell to show the HTML representation or trust the notebook. <br />On GitHub, the HTML representation is unable to render, please try loading this page with nbviewer.org.</b></div><div class=\"sk-container\" hidden><div class=\"sk-item\"><div class=\"sk-estimator sk-toggleable\"><input class=\"sk-toggleable__control sk-hidden--visually\" id=\"sk-estimator-id-2\" type=\"checkbox\" checked><label for=\"sk-estimator-id-2\" class=\"sk-toggleable__label sk-toggleable__label-arrow\">KNeighborsClassifier</label><div class=\"sk-toggleable__content\"><pre>KNeighborsClassifier(n_neighbors=13)</pre></div></div></div></div></div>"
      ],
      "text/plain": [
       "KNeighborsClassifier(n_neighbors=13)"
      ]
     },
     "execution_count": 47,
     "metadata": {},
     "output_type": "execute_result"
    }
   ],
   "source": [
    "knn.fit(x_train,y_train)"
   ]
  },
  {
   "cell_type": "code",
   "execution_count": 48,
   "id": "79512c1f",
   "metadata": {},
   "outputs": [
    {
     "data": {
      "text/plain": [
       "array([0, 0, 0, 1, 0, 0, 1, 0, 0, 0, 0, 0, 0, 0, 1, 0, 0, 0, 1, 0, 0, 0,\n",
       "       0, 0, 0, 0, 0, 0, 0, 1, 1, 0, 0, 0, 0, 0, 0, 1, 0, 1, 1, 0, 0, 0,\n",
       "       0, 0, 1, 1, 0, 1, 0, 0, 0, 0, 0, 0, 0, 0, 0, 0], dtype=int64)"
      ]
     },
     "execution_count": 48,
     "metadata": {},
     "output_type": "execute_result"
    }
   ],
   "source": [
    "knnpred=knn.predict(x_test)\n",
    "knnpred"
   ]
  },
  {
   "cell_type": "code",
   "execution_count": 49,
   "id": "6c916608",
   "metadata": {},
   "outputs": [
    {
     "name": "stdout",
     "output_type": "stream",
     "text": [
      "Accuracy Score of KNN:  0.9166666666666666\n"
     ]
    }
   ],
   "source": [
    "print('Accuracy Score of KNN: ', accuracy_score(y_test, knnpred))"
   ]
  },
  {
   "cell_type": "code",
   "execution_count": 50,
   "id": "2b3a1228",
   "metadata": {},
   "outputs": [
    {
     "name": "stdout",
     "output_type": "stream",
     "text": [
      "[[45  2]\n",
      " [ 3 10]]\n"
     ]
    }
   ],
   "source": [
    "print(confusion_matrix(y_test, knnpred))"
   ]
  },
  {
   "cell_type": "code",
   "execution_count": 51,
   "id": "1007b1a5",
   "metadata": {},
   "outputs": [
    {
     "name": "stdout",
     "output_type": "stream",
     "text": [
      "              precision    recall  f1-score   support\n",
      "\n",
      "           0       0.94      0.96      0.95        47\n",
      "           1       0.83      0.77      0.80        13\n",
      "\n",
      "    accuracy                           0.92        60\n",
      "   macro avg       0.89      0.86      0.87        60\n",
      "weighted avg       0.91      0.92      0.92        60\n",
      "\n"
     ]
    }
   ],
   "source": [
    "print(classification_report(y_test,knnpred))"
   ]
  },
  {
   "cell_type": "markdown",
   "id": "6af11f60",
   "metadata": {},
   "source": [
    "KNN classifier gives us 92% accuracy."
   ]
  },
  {
   "cell_type": "markdown",
   "id": "401094ec",
   "metadata": {},
   "source": [
    "## Decision Tree"
   ]
  },
  {
   "cell_type": "code",
   "execution_count": 52,
   "id": "f9fded70",
   "metadata": {},
   "outputs": [],
   "source": [
    "dtc=DecisionTreeClassifier()"
   ]
  },
  {
   "cell_type": "code",
   "execution_count": 53,
   "id": "329c6fc8",
   "metadata": {},
   "outputs": [
    {
     "data": {
      "text/html": [
       "<style>#sk-container-id-3 {color: black;background-color: white;}#sk-container-id-3 pre{padding: 0;}#sk-container-id-3 div.sk-toggleable {background-color: white;}#sk-container-id-3 label.sk-toggleable__label {cursor: pointer;display: block;width: 100%;margin-bottom: 0;padding: 0.3em;box-sizing: border-box;text-align: center;}#sk-container-id-3 label.sk-toggleable__label-arrow:before {content: \"▸\";float: left;margin-right: 0.25em;color: #696969;}#sk-container-id-3 label.sk-toggleable__label-arrow:hover:before {color: black;}#sk-container-id-3 div.sk-estimator:hover label.sk-toggleable__label-arrow:before {color: black;}#sk-container-id-3 div.sk-toggleable__content {max-height: 0;max-width: 0;overflow: hidden;text-align: left;background-color: #f0f8ff;}#sk-container-id-3 div.sk-toggleable__content pre {margin: 0.2em;color: black;border-radius: 0.25em;background-color: #f0f8ff;}#sk-container-id-3 input.sk-toggleable__control:checked~div.sk-toggleable__content {max-height: 200px;max-width: 100%;overflow: auto;}#sk-container-id-3 input.sk-toggleable__control:checked~label.sk-toggleable__label-arrow:before {content: \"▾\";}#sk-container-id-3 div.sk-estimator input.sk-toggleable__control:checked~label.sk-toggleable__label {background-color: #d4ebff;}#sk-container-id-3 div.sk-label input.sk-toggleable__control:checked~label.sk-toggleable__label {background-color: #d4ebff;}#sk-container-id-3 input.sk-hidden--visually {border: 0;clip: rect(1px 1px 1px 1px);clip: rect(1px, 1px, 1px, 1px);height: 1px;margin: -1px;overflow: hidden;padding: 0;position: absolute;width: 1px;}#sk-container-id-3 div.sk-estimator {font-family: monospace;background-color: #f0f8ff;border: 1px dotted black;border-radius: 0.25em;box-sizing: border-box;margin-bottom: 0.5em;}#sk-container-id-3 div.sk-estimator:hover {background-color: #d4ebff;}#sk-container-id-3 div.sk-parallel-item::after {content: \"\";width: 100%;border-bottom: 1px solid gray;flex-grow: 1;}#sk-container-id-3 div.sk-label:hover label.sk-toggleable__label {background-color: #d4ebff;}#sk-container-id-3 div.sk-serial::before {content: \"\";position: absolute;border-left: 1px solid gray;box-sizing: border-box;top: 0;bottom: 0;left: 50%;z-index: 0;}#sk-container-id-3 div.sk-serial {display: flex;flex-direction: column;align-items: center;background-color: white;padding-right: 0.2em;padding-left: 0.2em;position: relative;}#sk-container-id-3 div.sk-item {position: relative;z-index: 1;}#sk-container-id-3 div.sk-parallel {display: flex;align-items: stretch;justify-content: center;background-color: white;position: relative;}#sk-container-id-3 div.sk-item::before, #sk-container-id-3 div.sk-parallel-item::before {content: \"\";position: absolute;border-left: 1px solid gray;box-sizing: border-box;top: 0;bottom: 0;left: 50%;z-index: -1;}#sk-container-id-3 div.sk-parallel-item {display: flex;flex-direction: column;z-index: 1;position: relative;background-color: white;}#sk-container-id-3 div.sk-parallel-item:first-child::after {align-self: flex-end;width: 50%;}#sk-container-id-3 div.sk-parallel-item:last-child::after {align-self: flex-start;width: 50%;}#sk-container-id-3 div.sk-parallel-item:only-child::after {width: 0;}#sk-container-id-3 div.sk-dashed-wrapped {border: 1px dashed gray;margin: 0 0.4em 0.5em 0.4em;box-sizing: border-box;padding-bottom: 0.4em;background-color: white;}#sk-container-id-3 div.sk-label label {font-family: monospace;font-weight: bold;display: inline-block;line-height: 1.2em;}#sk-container-id-3 div.sk-label-container {text-align: center;}#sk-container-id-3 div.sk-container {/* jupyter's `normalize.less` sets `[hidden] { display: none; }` but bootstrap.min.css set `[hidden] { display: none !important; }` so we also need the `!important` here to be able to override the default hidden behavior on the sphinx rendered scikit-learn.org. See: https://github.com/scikit-learn/scikit-learn/issues/21755 */display: inline-block !important;position: relative;}#sk-container-id-3 div.sk-text-repr-fallback {display: none;}</style><div id=\"sk-container-id-3\" class=\"sk-top-container\"><div class=\"sk-text-repr-fallback\"><pre>DecisionTreeClassifier()</pre><b>In a Jupyter environment, please rerun this cell to show the HTML representation or trust the notebook. <br />On GitHub, the HTML representation is unable to render, please try loading this page with nbviewer.org.</b></div><div class=\"sk-container\" hidden><div class=\"sk-item\"><div class=\"sk-estimator sk-toggleable\"><input class=\"sk-toggleable__control sk-hidden--visually\" id=\"sk-estimator-id-3\" type=\"checkbox\" checked><label for=\"sk-estimator-id-3\" class=\"sk-toggleable__label sk-toggleable__label-arrow\">DecisionTreeClassifier</label><div class=\"sk-toggleable__content\"><pre>DecisionTreeClassifier()</pre></div></div></div></div></div>"
      ],
      "text/plain": [
       "DecisionTreeClassifier()"
      ]
     },
     "execution_count": 53,
     "metadata": {},
     "output_type": "execute_result"
    }
   ],
   "source": [
    "dtc.fit(x_train,y_train)"
   ]
  },
  {
   "cell_type": "code",
   "execution_count": 54,
   "id": "c9c7c6d5",
   "metadata": {},
   "outputs": [
    {
     "data": {
      "text/plain": [
       "array([0, 0, 0, 0, 0, 0, 1, 0, 0, 0, 0, 0, 0, 0, 1, 0, 0, 0, 1, 0, 0, 0,\n",
       "       0, 0, 0, 1, 1, 0, 0, 1, 1, 0, 0, 0, 0, 1, 1, 1, 0, 0, 1, 0, 0, 0,\n",
       "       0, 0, 0, 1, 0, 1, 0, 0, 0, 0, 0, 0, 0, 0, 0, 0], dtype=int64)"
      ]
     },
     "execution_count": 54,
     "metadata": {},
     "output_type": "execute_result"
    }
   ],
   "source": [
    "dtcpred=dtc.predict(x_test)\n",
    "dtcpred"
   ]
  },
  {
   "cell_type": "code",
   "execution_count": 55,
   "id": "e2dd6af8",
   "metadata": {},
   "outputs": [
    {
     "name": "stdout",
     "output_type": "stream",
     "text": [
      "Accuracy Score of Decision Tree Classifier:  0.9333333333333333\n"
     ]
    }
   ],
   "source": [
    "print('Accuracy Score of Decision Tree Classifier: ', accuracy_score(y_test, dtcpred))"
   ]
  },
  {
   "cell_type": "code",
   "execution_count": 56,
   "id": "c3b2af70",
   "metadata": {},
   "outputs": [
    {
     "name": "stdout",
     "output_type": "stream",
     "text": [
      "[[45  2]\n",
      " [ 2 11]]\n"
     ]
    }
   ],
   "source": [
    "print(confusion_matrix(y_test, dtcpred))"
   ]
  },
  {
   "cell_type": "code",
   "execution_count": 57,
   "id": "34a43119",
   "metadata": {},
   "outputs": [
    {
     "name": "stdout",
     "output_type": "stream",
     "text": [
      "              precision    recall  f1-score   support\n",
      "\n",
      "           0       0.96      0.96      0.96        47\n",
      "           1       0.85      0.85      0.85        13\n",
      "\n",
      "    accuracy                           0.93        60\n",
      "   macro avg       0.90      0.90      0.90        60\n",
      "weighted avg       0.93      0.93      0.93        60\n",
      "\n"
     ]
    }
   ],
   "source": [
    "print(classification_report(y_test,dtcpred))"
   ]
  },
  {
   "cell_type": "markdown",
   "id": "c701c61b",
   "metadata": {},
   "source": [
    "Decision Tree Classifier has 93% accuracy."
   ]
  },
  {
   "cell_type": "markdown",
   "id": "0be7bf90",
   "metadata": {},
   "source": [
    "## Support Vector Classifier"
   ]
  },
  {
   "cell_type": "code",
   "execution_count": 58,
   "id": "a01044e5",
   "metadata": {},
   "outputs": [],
   "source": [
    "svc=SVC()"
   ]
  },
  {
   "cell_type": "code",
   "execution_count": 59,
   "id": "36d394ad",
   "metadata": {},
   "outputs": [
    {
     "data": {
      "text/html": [
       "<style>#sk-container-id-4 {color: black;background-color: white;}#sk-container-id-4 pre{padding: 0;}#sk-container-id-4 div.sk-toggleable {background-color: white;}#sk-container-id-4 label.sk-toggleable__label {cursor: pointer;display: block;width: 100%;margin-bottom: 0;padding: 0.3em;box-sizing: border-box;text-align: center;}#sk-container-id-4 label.sk-toggleable__label-arrow:before {content: \"▸\";float: left;margin-right: 0.25em;color: #696969;}#sk-container-id-4 label.sk-toggleable__label-arrow:hover:before {color: black;}#sk-container-id-4 div.sk-estimator:hover label.sk-toggleable__label-arrow:before {color: black;}#sk-container-id-4 div.sk-toggleable__content {max-height: 0;max-width: 0;overflow: hidden;text-align: left;background-color: #f0f8ff;}#sk-container-id-4 div.sk-toggleable__content pre {margin: 0.2em;color: black;border-radius: 0.25em;background-color: #f0f8ff;}#sk-container-id-4 input.sk-toggleable__control:checked~div.sk-toggleable__content {max-height: 200px;max-width: 100%;overflow: auto;}#sk-container-id-4 input.sk-toggleable__control:checked~label.sk-toggleable__label-arrow:before {content: \"▾\";}#sk-container-id-4 div.sk-estimator input.sk-toggleable__control:checked~label.sk-toggleable__label {background-color: #d4ebff;}#sk-container-id-4 div.sk-label input.sk-toggleable__control:checked~label.sk-toggleable__label {background-color: #d4ebff;}#sk-container-id-4 input.sk-hidden--visually {border: 0;clip: rect(1px 1px 1px 1px);clip: rect(1px, 1px, 1px, 1px);height: 1px;margin: -1px;overflow: hidden;padding: 0;position: absolute;width: 1px;}#sk-container-id-4 div.sk-estimator {font-family: monospace;background-color: #f0f8ff;border: 1px dotted black;border-radius: 0.25em;box-sizing: border-box;margin-bottom: 0.5em;}#sk-container-id-4 div.sk-estimator:hover {background-color: #d4ebff;}#sk-container-id-4 div.sk-parallel-item::after {content: \"\";width: 100%;border-bottom: 1px solid gray;flex-grow: 1;}#sk-container-id-4 div.sk-label:hover label.sk-toggleable__label {background-color: #d4ebff;}#sk-container-id-4 div.sk-serial::before {content: \"\";position: absolute;border-left: 1px solid gray;box-sizing: border-box;top: 0;bottom: 0;left: 50%;z-index: 0;}#sk-container-id-4 div.sk-serial {display: flex;flex-direction: column;align-items: center;background-color: white;padding-right: 0.2em;padding-left: 0.2em;position: relative;}#sk-container-id-4 div.sk-item {position: relative;z-index: 1;}#sk-container-id-4 div.sk-parallel {display: flex;align-items: stretch;justify-content: center;background-color: white;position: relative;}#sk-container-id-4 div.sk-item::before, #sk-container-id-4 div.sk-parallel-item::before {content: \"\";position: absolute;border-left: 1px solid gray;box-sizing: border-box;top: 0;bottom: 0;left: 50%;z-index: -1;}#sk-container-id-4 div.sk-parallel-item {display: flex;flex-direction: column;z-index: 1;position: relative;background-color: white;}#sk-container-id-4 div.sk-parallel-item:first-child::after {align-self: flex-end;width: 50%;}#sk-container-id-4 div.sk-parallel-item:last-child::after {align-self: flex-start;width: 50%;}#sk-container-id-4 div.sk-parallel-item:only-child::after {width: 0;}#sk-container-id-4 div.sk-dashed-wrapped {border: 1px dashed gray;margin: 0 0.4em 0.5em 0.4em;box-sizing: border-box;padding-bottom: 0.4em;background-color: white;}#sk-container-id-4 div.sk-label label {font-family: monospace;font-weight: bold;display: inline-block;line-height: 1.2em;}#sk-container-id-4 div.sk-label-container {text-align: center;}#sk-container-id-4 div.sk-container {/* jupyter's `normalize.less` sets `[hidden] { display: none; }` but bootstrap.min.css set `[hidden] { display: none !important; }` so we also need the `!important` here to be able to override the default hidden behavior on the sphinx rendered scikit-learn.org. See: https://github.com/scikit-learn/scikit-learn/issues/21755 */display: inline-block !important;position: relative;}#sk-container-id-4 div.sk-text-repr-fallback {display: none;}</style><div id=\"sk-container-id-4\" class=\"sk-top-container\"><div class=\"sk-text-repr-fallback\"><pre>SVC()</pre><b>In a Jupyter environment, please rerun this cell to show the HTML representation or trust the notebook. <br />On GitHub, the HTML representation is unable to render, please try loading this page with nbviewer.org.</b></div><div class=\"sk-container\" hidden><div class=\"sk-item\"><div class=\"sk-estimator sk-toggleable\"><input class=\"sk-toggleable__control sk-hidden--visually\" id=\"sk-estimator-id-4\" type=\"checkbox\" checked><label for=\"sk-estimator-id-4\" class=\"sk-toggleable__label sk-toggleable__label-arrow\">SVC</label><div class=\"sk-toggleable__content\"><pre>SVC()</pre></div></div></div></div></div>"
      ],
      "text/plain": [
       "SVC()"
      ]
     },
     "execution_count": 59,
     "metadata": {},
     "output_type": "execute_result"
    }
   ],
   "source": [
    "svc.fit(x_train,y_train)"
   ]
  },
  {
   "cell_type": "code",
   "execution_count": 60,
   "id": "7ee85960",
   "metadata": {},
   "outputs": [
    {
     "data": {
      "text/plain": [
       "array([0, 0, 0, 0, 0, 0, 0, 0, 0, 0, 0, 0, 0, 0, 0, 0, 0, 0, 0, 0, 0, 0,\n",
       "       0, 0, 0, 0, 0, 0, 0, 0, 0, 0, 0, 0, 0, 0, 0, 0, 0, 0, 1, 0, 0, 0,\n",
       "       0, 0, 0, 1, 0, 0, 0, 0, 0, 0, 0, 0, 0, 0, 0, 0], dtype=int64)"
      ]
     },
     "execution_count": 60,
     "metadata": {},
     "output_type": "execute_result"
    }
   ],
   "source": [
    "svcpred=svc.predict(x_test)\n",
    "svcpred"
   ]
  },
  {
   "cell_type": "code",
   "execution_count": 61,
   "id": "0a142795",
   "metadata": {},
   "outputs": [
    {
     "name": "stdout",
     "output_type": "stream",
     "text": [
      "Accuracy Score of SVC:  0.8166666666666667\n"
     ]
    }
   ],
   "source": [
    "print('Accuracy Score of SVC: ', accuracy_score(y_test, svcpred))"
   ]
  },
  {
   "cell_type": "code",
   "execution_count": 62,
   "id": "00e40ad3",
   "metadata": {},
   "outputs": [
    {
     "name": "stdout",
     "output_type": "stream",
     "text": [
      "[[47  0]\n",
      " [11  2]]\n"
     ]
    }
   ],
   "source": [
    "print(confusion_matrix(y_test, svcpred))"
   ]
  },
  {
   "cell_type": "code",
   "execution_count": 63,
   "id": "c64c741f",
   "metadata": {},
   "outputs": [
    {
     "name": "stdout",
     "output_type": "stream",
     "text": [
      "              precision    recall  f1-score   support\n",
      "\n",
      "           0       0.81      1.00      0.90        47\n",
      "           1       1.00      0.15      0.27        13\n",
      "\n",
      "    accuracy                           0.82        60\n",
      "   macro avg       0.91      0.58      0.58        60\n",
      "weighted avg       0.85      0.82      0.76        60\n",
      "\n"
     ]
    }
   ],
   "source": [
    "print(classification_report(y_test,svcpred))"
   ]
  },
  {
   "cell_type": "markdown",
   "id": "e65b596b",
   "metadata": {},
   "source": [
    "SVC gives us 82% accuracy."
   ]
  },
  {
   "cell_type": "markdown",
   "id": "8a22360a",
   "metadata": {},
   "source": [
    "## Random Forest Classifier"
   ]
  },
  {
   "cell_type": "code",
   "execution_count": 64,
   "id": "f41b0255",
   "metadata": {},
   "outputs": [],
   "source": [
    "rfc=RandomForestClassifier(n_estimators=200, random_state=42)"
   ]
  },
  {
   "cell_type": "code",
   "execution_count": 65,
   "id": "e0a9e181",
   "metadata": {},
   "outputs": [
    {
     "data": {
      "text/html": [
       "<style>#sk-container-id-5 {color: black;background-color: white;}#sk-container-id-5 pre{padding: 0;}#sk-container-id-5 div.sk-toggleable {background-color: white;}#sk-container-id-5 label.sk-toggleable__label {cursor: pointer;display: block;width: 100%;margin-bottom: 0;padding: 0.3em;box-sizing: border-box;text-align: center;}#sk-container-id-5 label.sk-toggleable__label-arrow:before {content: \"▸\";float: left;margin-right: 0.25em;color: #696969;}#sk-container-id-5 label.sk-toggleable__label-arrow:hover:before {color: black;}#sk-container-id-5 div.sk-estimator:hover label.sk-toggleable__label-arrow:before {color: black;}#sk-container-id-5 div.sk-toggleable__content {max-height: 0;max-width: 0;overflow: hidden;text-align: left;background-color: #f0f8ff;}#sk-container-id-5 div.sk-toggleable__content pre {margin: 0.2em;color: black;border-radius: 0.25em;background-color: #f0f8ff;}#sk-container-id-5 input.sk-toggleable__control:checked~div.sk-toggleable__content {max-height: 200px;max-width: 100%;overflow: auto;}#sk-container-id-5 input.sk-toggleable__control:checked~label.sk-toggleable__label-arrow:before {content: \"▾\";}#sk-container-id-5 div.sk-estimator input.sk-toggleable__control:checked~label.sk-toggleable__label {background-color: #d4ebff;}#sk-container-id-5 div.sk-label input.sk-toggleable__control:checked~label.sk-toggleable__label {background-color: #d4ebff;}#sk-container-id-5 input.sk-hidden--visually {border: 0;clip: rect(1px 1px 1px 1px);clip: rect(1px, 1px, 1px, 1px);height: 1px;margin: -1px;overflow: hidden;padding: 0;position: absolute;width: 1px;}#sk-container-id-5 div.sk-estimator {font-family: monospace;background-color: #f0f8ff;border: 1px dotted black;border-radius: 0.25em;box-sizing: border-box;margin-bottom: 0.5em;}#sk-container-id-5 div.sk-estimator:hover {background-color: #d4ebff;}#sk-container-id-5 div.sk-parallel-item::after {content: \"\";width: 100%;border-bottom: 1px solid gray;flex-grow: 1;}#sk-container-id-5 div.sk-label:hover label.sk-toggleable__label {background-color: #d4ebff;}#sk-container-id-5 div.sk-serial::before {content: \"\";position: absolute;border-left: 1px solid gray;box-sizing: border-box;top: 0;bottom: 0;left: 50%;z-index: 0;}#sk-container-id-5 div.sk-serial {display: flex;flex-direction: column;align-items: center;background-color: white;padding-right: 0.2em;padding-left: 0.2em;position: relative;}#sk-container-id-5 div.sk-item {position: relative;z-index: 1;}#sk-container-id-5 div.sk-parallel {display: flex;align-items: stretch;justify-content: center;background-color: white;position: relative;}#sk-container-id-5 div.sk-item::before, #sk-container-id-5 div.sk-parallel-item::before {content: \"\";position: absolute;border-left: 1px solid gray;box-sizing: border-box;top: 0;bottom: 0;left: 50%;z-index: -1;}#sk-container-id-5 div.sk-parallel-item {display: flex;flex-direction: column;z-index: 1;position: relative;background-color: white;}#sk-container-id-5 div.sk-parallel-item:first-child::after {align-self: flex-end;width: 50%;}#sk-container-id-5 div.sk-parallel-item:last-child::after {align-self: flex-start;width: 50%;}#sk-container-id-5 div.sk-parallel-item:only-child::after {width: 0;}#sk-container-id-5 div.sk-dashed-wrapped {border: 1px dashed gray;margin: 0 0.4em 0.5em 0.4em;box-sizing: border-box;padding-bottom: 0.4em;background-color: white;}#sk-container-id-5 div.sk-label label {font-family: monospace;font-weight: bold;display: inline-block;line-height: 1.2em;}#sk-container-id-5 div.sk-label-container {text-align: center;}#sk-container-id-5 div.sk-container {/* jupyter's `normalize.less` sets `[hidden] { display: none; }` but bootstrap.min.css set `[hidden] { display: none !important; }` so we also need the `!important` here to be able to override the default hidden behavior on the sphinx rendered scikit-learn.org. See: https://github.com/scikit-learn/scikit-learn/issues/21755 */display: inline-block !important;position: relative;}#sk-container-id-5 div.sk-text-repr-fallback {display: none;}</style><div id=\"sk-container-id-5\" class=\"sk-top-container\"><div class=\"sk-text-repr-fallback\"><pre>RandomForestClassifier(n_estimators=200, random_state=42)</pre><b>In a Jupyter environment, please rerun this cell to show the HTML representation or trust the notebook. <br />On GitHub, the HTML representation is unable to render, please try loading this page with nbviewer.org.</b></div><div class=\"sk-container\" hidden><div class=\"sk-item\"><div class=\"sk-estimator sk-toggleable\"><input class=\"sk-toggleable__control sk-hidden--visually\" id=\"sk-estimator-id-5\" type=\"checkbox\" checked><label for=\"sk-estimator-id-5\" class=\"sk-toggleable__label sk-toggleable__label-arrow\">RandomForestClassifier</label><div class=\"sk-toggleable__content\"><pre>RandomForestClassifier(n_estimators=200, random_state=42)</pre></div></div></div></div></div>"
      ],
      "text/plain": [
       "RandomForestClassifier(n_estimators=200, random_state=42)"
      ]
     },
     "execution_count": 65,
     "metadata": {},
     "output_type": "execute_result"
    }
   ],
   "source": [
    "rfc.fit(x_train, y_train)"
   ]
  },
  {
   "cell_type": "code",
   "execution_count": 66,
   "id": "f72a16ec",
   "metadata": {},
   "outputs": [
    {
     "data": {
      "text/plain": [
       "array([0, 0, 0, 0, 0, 0, 1, 0, 0, 0, 0, 0, 0, 0, 1, 0, 0, 0, 1, 0, 0, 0,\n",
       "       0, 0, 0, 0, 1, 0, 0, 1, 1, 0, 0, 0, 0, 1, 1, 1, 0, 1, 1, 0, 0, 0,\n",
       "       0, 0, 1, 1, 0, 1, 0, 0, 0, 0, 0, 0, 0, 0, 0, 0], dtype=int64)"
      ]
     },
     "execution_count": 66,
     "metadata": {},
     "output_type": "execute_result"
    }
   ],
   "source": [
    "rfcpred= rfc.predict(x_test)\n",
    "rfcpred"
   ]
  },
  {
   "cell_type": "code",
   "execution_count": 67,
   "id": "cf2b703f",
   "metadata": {},
   "outputs": [
    {
     "name": "stdout",
     "output_type": "stream",
     "text": [
      "Accuracy Score of RFC:  0.95\n"
     ]
    }
   ],
   "source": [
    "print('Accuracy Score of RFC: ', accuracy_score(y_test, rfcpred))"
   ]
  },
  {
   "cell_type": "code",
   "execution_count": 68,
   "id": "689270f2",
   "metadata": {},
   "outputs": [
    {
     "name": "stdout",
     "output_type": "stream",
     "text": [
      "[[45  2]\n",
      " [ 1 12]]\n"
     ]
    }
   ],
   "source": [
    "print(confusion_matrix(y_test, rfcpred))"
   ]
  },
  {
   "cell_type": "code",
   "execution_count": 69,
   "id": "947ed503",
   "metadata": {},
   "outputs": [
    {
     "name": "stdout",
     "output_type": "stream",
     "text": [
      "              precision    recall  f1-score   support\n",
      "\n",
      "           0       0.98      0.96      0.97        47\n",
      "           1       0.86      0.92      0.89        13\n",
      "\n",
      "    accuracy                           0.95        60\n",
      "   macro avg       0.92      0.94      0.93        60\n",
      "weighted avg       0.95      0.95      0.95        60\n",
      "\n"
     ]
    }
   ],
   "source": [
    "print(classification_report(y_test,rfcpred))"
   ]
  },
  {
   "cell_type": "markdown",
   "id": "9669ce27",
   "metadata": {},
   "source": [
    "Random Forest Classifier gives us 95% accuracy."
   ]
  },
  {
   "cell_type": "markdown",
   "id": "2be55d44",
   "metadata": {},
   "source": [
    "## AdaBoostClassifier"
   ]
  },
  {
   "cell_type": "code",
   "execution_count": 70,
   "id": "d8891b62",
   "metadata": {},
   "outputs": [],
   "source": [
    "abc=AdaBoostClassifier()"
   ]
  },
  {
   "cell_type": "code",
   "execution_count": 71,
   "id": "30cfcd5d",
   "metadata": {},
   "outputs": [
    {
     "data": {
      "text/html": [
       "<style>#sk-container-id-6 {color: black;background-color: white;}#sk-container-id-6 pre{padding: 0;}#sk-container-id-6 div.sk-toggleable {background-color: white;}#sk-container-id-6 label.sk-toggleable__label {cursor: pointer;display: block;width: 100%;margin-bottom: 0;padding: 0.3em;box-sizing: border-box;text-align: center;}#sk-container-id-6 label.sk-toggleable__label-arrow:before {content: \"▸\";float: left;margin-right: 0.25em;color: #696969;}#sk-container-id-6 label.sk-toggleable__label-arrow:hover:before {color: black;}#sk-container-id-6 div.sk-estimator:hover label.sk-toggleable__label-arrow:before {color: black;}#sk-container-id-6 div.sk-toggleable__content {max-height: 0;max-width: 0;overflow: hidden;text-align: left;background-color: #f0f8ff;}#sk-container-id-6 div.sk-toggleable__content pre {margin: 0.2em;color: black;border-radius: 0.25em;background-color: #f0f8ff;}#sk-container-id-6 input.sk-toggleable__control:checked~div.sk-toggleable__content {max-height: 200px;max-width: 100%;overflow: auto;}#sk-container-id-6 input.sk-toggleable__control:checked~label.sk-toggleable__label-arrow:before {content: \"▾\";}#sk-container-id-6 div.sk-estimator input.sk-toggleable__control:checked~label.sk-toggleable__label {background-color: #d4ebff;}#sk-container-id-6 div.sk-label input.sk-toggleable__control:checked~label.sk-toggleable__label {background-color: #d4ebff;}#sk-container-id-6 input.sk-hidden--visually {border: 0;clip: rect(1px 1px 1px 1px);clip: rect(1px, 1px, 1px, 1px);height: 1px;margin: -1px;overflow: hidden;padding: 0;position: absolute;width: 1px;}#sk-container-id-6 div.sk-estimator {font-family: monospace;background-color: #f0f8ff;border: 1px dotted black;border-radius: 0.25em;box-sizing: border-box;margin-bottom: 0.5em;}#sk-container-id-6 div.sk-estimator:hover {background-color: #d4ebff;}#sk-container-id-6 div.sk-parallel-item::after {content: \"\";width: 100%;border-bottom: 1px solid gray;flex-grow: 1;}#sk-container-id-6 div.sk-label:hover label.sk-toggleable__label {background-color: #d4ebff;}#sk-container-id-6 div.sk-serial::before {content: \"\";position: absolute;border-left: 1px solid gray;box-sizing: border-box;top: 0;bottom: 0;left: 50%;z-index: 0;}#sk-container-id-6 div.sk-serial {display: flex;flex-direction: column;align-items: center;background-color: white;padding-right: 0.2em;padding-left: 0.2em;position: relative;}#sk-container-id-6 div.sk-item {position: relative;z-index: 1;}#sk-container-id-6 div.sk-parallel {display: flex;align-items: stretch;justify-content: center;background-color: white;position: relative;}#sk-container-id-6 div.sk-item::before, #sk-container-id-6 div.sk-parallel-item::before {content: \"\";position: absolute;border-left: 1px solid gray;box-sizing: border-box;top: 0;bottom: 0;left: 50%;z-index: -1;}#sk-container-id-6 div.sk-parallel-item {display: flex;flex-direction: column;z-index: 1;position: relative;background-color: white;}#sk-container-id-6 div.sk-parallel-item:first-child::after {align-self: flex-end;width: 50%;}#sk-container-id-6 div.sk-parallel-item:last-child::after {align-self: flex-start;width: 50%;}#sk-container-id-6 div.sk-parallel-item:only-child::after {width: 0;}#sk-container-id-6 div.sk-dashed-wrapped {border: 1px dashed gray;margin: 0 0.4em 0.5em 0.4em;box-sizing: border-box;padding-bottom: 0.4em;background-color: white;}#sk-container-id-6 div.sk-label label {font-family: monospace;font-weight: bold;display: inline-block;line-height: 1.2em;}#sk-container-id-6 div.sk-label-container {text-align: center;}#sk-container-id-6 div.sk-container {/* jupyter's `normalize.less` sets `[hidden] { display: none; }` but bootstrap.min.css set `[hidden] { display: none !important; }` so we also need the `!important` here to be able to override the default hidden behavior on the sphinx rendered scikit-learn.org. See: https://github.com/scikit-learn/scikit-learn/issues/21755 */display: inline-block !important;position: relative;}#sk-container-id-6 div.sk-text-repr-fallback {display: none;}</style><div id=\"sk-container-id-6\" class=\"sk-top-container\"><div class=\"sk-text-repr-fallback\"><pre>AdaBoostClassifier()</pre><b>In a Jupyter environment, please rerun this cell to show the HTML representation or trust the notebook. <br />On GitHub, the HTML representation is unable to render, please try loading this page with nbviewer.org.</b></div><div class=\"sk-container\" hidden><div class=\"sk-item\"><div class=\"sk-estimator sk-toggleable\"><input class=\"sk-toggleable__control sk-hidden--visually\" id=\"sk-estimator-id-6\" type=\"checkbox\" checked><label for=\"sk-estimator-id-6\" class=\"sk-toggleable__label sk-toggleable__label-arrow\">AdaBoostClassifier</label><div class=\"sk-toggleable__content\"><pre>AdaBoostClassifier()</pre></div></div></div></div></div>"
      ],
      "text/plain": [
       "AdaBoostClassifier()"
      ]
     },
     "execution_count": 71,
     "metadata": {},
     "output_type": "execute_result"
    }
   ],
   "source": [
    "abc.fit(x_train,y_train)"
   ]
  },
  {
   "cell_type": "code",
   "execution_count": 72,
   "id": "b56f5b3e",
   "metadata": {},
   "outputs": [
    {
     "data": {
      "text/plain": [
       "array([0, 0, 0, 1, 0, 0, 1, 0, 0, 0, 0, 0, 0, 0, 1, 0, 0, 0, 1, 0, 0, 0,\n",
       "       0, 0, 0, 0, 1, 0, 0, 1, 1, 0, 0, 0, 0, 1, 1, 1, 0, 0, 1, 0, 0, 0,\n",
       "       0, 0, 1, 1, 0, 1, 0, 0, 0, 0, 0, 0, 0, 0, 0, 0], dtype=int64)"
      ]
     },
     "execution_count": 72,
     "metadata": {},
     "output_type": "execute_result"
    }
   ],
   "source": [
    "abcpred=abc.predict(x_test)\n",
    "abcpred"
   ]
  },
  {
   "cell_type": "code",
   "execution_count": 73,
   "id": "ce159855",
   "metadata": {},
   "outputs": [
    {
     "name": "stdout",
     "output_type": "stream",
     "text": [
      "Accuracy Score of ABC:  0.9166666666666666\n"
     ]
    }
   ],
   "source": [
    "print('Accuracy Score of ABC: ', accuracy_score(y_test, abcpred))"
   ]
  },
  {
   "cell_type": "code",
   "execution_count": 74,
   "id": "a2cf7e08",
   "metadata": {},
   "outputs": [
    {
     "name": "stdout",
     "output_type": "stream",
     "text": [
      "[[44  3]\n",
      " [ 2 11]]\n"
     ]
    }
   ],
   "source": [
    "print(confusion_matrix(y_test, abcpred))"
   ]
  },
  {
   "cell_type": "code",
   "execution_count": 75,
   "id": "088797c5",
   "metadata": {},
   "outputs": [
    {
     "name": "stdout",
     "output_type": "stream",
     "text": [
      "              precision    recall  f1-score   support\n",
      "\n",
      "           0       0.96      0.94      0.95        47\n",
      "           1       0.79      0.85      0.81        13\n",
      "\n",
      "    accuracy                           0.92        60\n",
      "   macro avg       0.87      0.89      0.88        60\n",
      "weighted avg       0.92      0.92      0.92        60\n",
      "\n"
     ]
    }
   ],
   "source": [
    "print(classification_report(y_test,abcpred))"
   ]
  },
  {
   "cell_type": "markdown",
   "id": "449ecda2",
   "metadata": {},
   "source": [
    "AdaBoostClassifier gives us 92% accuracy."
   ]
  },
  {
   "cell_type": "markdown",
   "id": "381dfcc6",
   "metadata": {},
   "source": [
    "## GradientBoostingClassifier"
   ]
  },
  {
   "cell_type": "code",
   "execution_count": 76,
   "id": "e2dcdadf",
   "metadata": {},
   "outputs": [],
   "source": [
    "gb=GradientBoostingClassifier()"
   ]
  },
  {
   "cell_type": "code",
   "execution_count": 77,
   "id": "7f1f2944",
   "metadata": {},
   "outputs": [
    {
     "data": {
      "text/html": [
       "<style>#sk-container-id-7 {color: black;background-color: white;}#sk-container-id-7 pre{padding: 0;}#sk-container-id-7 div.sk-toggleable {background-color: white;}#sk-container-id-7 label.sk-toggleable__label {cursor: pointer;display: block;width: 100%;margin-bottom: 0;padding: 0.3em;box-sizing: border-box;text-align: center;}#sk-container-id-7 label.sk-toggleable__label-arrow:before {content: \"▸\";float: left;margin-right: 0.25em;color: #696969;}#sk-container-id-7 label.sk-toggleable__label-arrow:hover:before {color: black;}#sk-container-id-7 div.sk-estimator:hover label.sk-toggleable__label-arrow:before {color: black;}#sk-container-id-7 div.sk-toggleable__content {max-height: 0;max-width: 0;overflow: hidden;text-align: left;background-color: #f0f8ff;}#sk-container-id-7 div.sk-toggleable__content pre {margin: 0.2em;color: black;border-radius: 0.25em;background-color: #f0f8ff;}#sk-container-id-7 input.sk-toggleable__control:checked~div.sk-toggleable__content {max-height: 200px;max-width: 100%;overflow: auto;}#sk-container-id-7 input.sk-toggleable__control:checked~label.sk-toggleable__label-arrow:before {content: \"▾\";}#sk-container-id-7 div.sk-estimator input.sk-toggleable__control:checked~label.sk-toggleable__label {background-color: #d4ebff;}#sk-container-id-7 div.sk-label input.sk-toggleable__control:checked~label.sk-toggleable__label {background-color: #d4ebff;}#sk-container-id-7 input.sk-hidden--visually {border: 0;clip: rect(1px 1px 1px 1px);clip: rect(1px, 1px, 1px, 1px);height: 1px;margin: -1px;overflow: hidden;padding: 0;position: absolute;width: 1px;}#sk-container-id-7 div.sk-estimator {font-family: monospace;background-color: #f0f8ff;border: 1px dotted black;border-radius: 0.25em;box-sizing: border-box;margin-bottom: 0.5em;}#sk-container-id-7 div.sk-estimator:hover {background-color: #d4ebff;}#sk-container-id-7 div.sk-parallel-item::after {content: \"\";width: 100%;border-bottom: 1px solid gray;flex-grow: 1;}#sk-container-id-7 div.sk-label:hover label.sk-toggleable__label {background-color: #d4ebff;}#sk-container-id-7 div.sk-serial::before {content: \"\";position: absolute;border-left: 1px solid gray;box-sizing: border-box;top: 0;bottom: 0;left: 50%;z-index: 0;}#sk-container-id-7 div.sk-serial {display: flex;flex-direction: column;align-items: center;background-color: white;padding-right: 0.2em;padding-left: 0.2em;position: relative;}#sk-container-id-7 div.sk-item {position: relative;z-index: 1;}#sk-container-id-7 div.sk-parallel {display: flex;align-items: stretch;justify-content: center;background-color: white;position: relative;}#sk-container-id-7 div.sk-item::before, #sk-container-id-7 div.sk-parallel-item::before {content: \"\";position: absolute;border-left: 1px solid gray;box-sizing: border-box;top: 0;bottom: 0;left: 50%;z-index: -1;}#sk-container-id-7 div.sk-parallel-item {display: flex;flex-direction: column;z-index: 1;position: relative;background-color: white;}#sk-container-id-7 div.sk-parallel-item:first-child::after {align-self: flex-end;width: 50%;}#sk-container-id-7 div.sk-parallel-item:last-child::after {align-self: flex-start;width: 50%;}#sk-container-id-7 div.sk-parallel-item:only-child::after {width: 0;}#sk-container-id-7 div.sk-dashed-wrapped {border: 1px dashed gray;margin: 0 0.4em 0.5em 0.4em;box-sizing: border-box;padding-bottom: 0.4em;background-color: white;}#sk-container-id-7 div.sk-label label {font-family: monospace;font-weight: bold;display: inline-block;line-height: 1.2em;}#sk-container-id-7 div.sk-label-container {text-align: center;}#sk-container-id-7 div.sk-container {/* jupyter's `normalize.less` sets `[hidden] { display: none; }` but bootstrap.min.css set `[hidden] { display: none !important; }` so we also need the `!important` here to be able to override the default hidden behavior on the sphinx rendered scikit-learn.org. See: https://github.com/scikit-learn/scikit-learn/issues/21755 */display: inline-block !important;position: relative;}#sk-container-id-7 div.sk-text-repr-fallback {display: none;}</style><div id=\"sk-container-id-7\" class=\"sk-top-container\"><div class=\"sk-text-repr-fallback\"><pre>GradientBoostingClassifier()</pre><b>In a Jupyter environment, please rerun this cell to show the HTML representation or trust the notebook. <br />On GitHub, the HTML representation is unable to render, please try loading this page with nbviewer.org.</b></div><div class=\"sk-container\" hidden><div class=\"sk-item\"><div class=\"sk-estimator sk-toggleable\"><input class=\"sk-toggleable__control sk-hidden--visually\" id=\"sk-estimator-id-7\" type=\"checkbox\" checked><label for=\"sk-estimator-id-7\" class=\"sk-toggleable__label sk-toggleable__label-arrow\">GradientBoostingClassifier</label><div class=\"sk-toggleable__content\"><pre>GradientBoostingClassifier()</pre></div></div></div></div></div>"
      ],
      "text/plain": [
       "GradientBoostingClassifier()"
      ]
     },
     "execution_count": 77,
     "metadata": {},
     "output_type": "execute_result"
    }
   ],
   "source": [
    "gb.fit(x_train,y_train)"
   ]
  },
  {
   "cell_type": "code",
   "execution_count": 78,
   "id": "097297b7",
   "metadata": {},
   "outputs": [
    {
     "data": {
      "text/plain": [
       "array([0, 0, 0, 0, 0, 0, 1, 0, 0, 0, 0, 0, 0, 0, 1, 0, 0, 0, 1, 0, 0, 0,\n",
       "       0, 0, 0, 1, 1, 0, 0, 1, 1, 0, 0, 0, 0, 1, 1, 1, 0, 0, 1, 0, 0, 0,\n",
       "       0, 0, 0, 1, 0, 1, 0, 0, 0, 0, 0, 0, 0, 0, 0, 0], dtype=int64)"
      ]
     },
     "execution_count": 78,
     "metadata": {},
     "output_type": "execute_result"
    }
   ],
   "source": [
    "gbpred=gb.predict(x_test)\n",
    "gbpred"
   ]
  },
  {
   "cell_type": "code",
   "execution_count": 79,
   "id": "91250fe5",
   "metadata": {},
   "outputs": [
    {
     "name": "stdout",
     "output_type": "stream",
     "text": [
      "Accuracy Score of GradientBoosting Classifier:  0.9333333333333333\n"
     ]
    }
   ],
   "source": [
    "print('Accuracy Score of GradientBoosting Classifier: ', accuracy_score(y_test, gbpred))"
   ]
  },
  {
   "cell_type": "code",
   "execution_count": 80,
   "id": "d2726337",
   "metadata": {},
   "outputs": [
    {
     "name": "stdout",
     "output_type": "stream",
     "text": [
      "[[45  2]\n",
      " [ 2 11]]\n"
     ]
    }
   ],
   "source": [
    "print(confusion_matrix(y_test, gbpred))"
   ]
  },
  {
   "cell_type": "code",
   "execution_count": 81,
   "id": "e5ba1b71",
   "metadata": {},
   "outputs": [
    {
     "name": "stdout",
     "output_type": "stream",
     "text": [
      "              precision    recall  f1-score   support\n",
      "\n",
      "           0       0.96      0.96      0.96        47\n",
      "           1       0.85      0.85      0.85        13\n",
      "\n",
      "    accuracy                           0.93        60\n",
      "   macro avg       0.90      0.90      0.90        60\n",
      "weighted avg       0.93      0.93      0.93        60\n",
      "\n"
     ]
    }
   ],
   "source": [
    "print(classification_report(y_test,gbpred))"
   ]
  },
  {
   "cell_type": "markdown",
   "id": "a4b34398",
   "metadata": {},
   "source": [
    "GradientBoosting Classifier gives us 93% accuracy."
   ]
  },
  {
   "cell_type": "markdown",
   "id": "2e67c6a7",
   "metadata": {},
   "source": [
    "## BaggingClassifier"
   ]
  },
  {
   "cell_type": "code",
   "execution_count": 82,
   "id": "28309e0e",
   "metadata": {},
   "outputs": [],
   "source": [
    "bc=BaggingClassifier()"
   ]
  },
  {
   "cell_type": "code",
   "execution_count": 83,
   "id": "a369a619",
   "metadata": {},
   "outputs": [
    {
     "data": {
      "text/html": [
       "<style>#sk-container-id-8 {color: black;background-color: white;}#sk-container-id-8 pre{padding: 0;}#sk-container-id-8 div.sk-toggleable {background-color: white;}#sk-container-id-8 label.sk-toggleable__label {cursor: pointer;display: block;width: 100%;margin-bottom: 0;padding: 0.3em;box-sizing: border-box;text-align: center;}#sk-container-id-8 label.sk-toggleable__label-arrow:before {content: \"▸\";float: left;margin-right: 0.25em;color: #696969;}#sk-container-id-8 label.sk-toggleable__label-arrow:hover:before {color: black;}#sk-container-id-8 div.sk-estimator:hover label.sk-toggleable__label-arrow:before {color: black;}#sk-container-id-8 div.sk-toggleable__content {max-height: 0;max-width: 0;overflow: hidden;text-align: left;background-color: #f0f8ff;}#sk-container-id-8 div.sk-toggleable__content pre {margin: 0.2em;color: black;border-radius: 0.25em;background-color: #f0f8ff;}#sk-container-id-8 input.sk-toggleable__control:checked~div.sk-toggleable__content {max-height: 200px;max-width: 100%;overflow: auto;}#sk-container-id-8 input.sk-toggleable__control:checked~label.sk-toggleable__label-arrow:before {content: \"▾\";}#sk-container-id-8 div.sk-estimator input.sk-toggleable__control:checked~label.sk-toggleable__label {background-color: #d4ebff;}#sk-container-id-8 div.sk-label input.sk-toggleable__control:checked~label.sk-toggleable__label {background-color: #d4ebff;}#sk-container-id-8 input.sk-hidden--visually {border: 0;clip: rect(1px 1px 1px 1px);clip: rect(1px, 1px, 1px, 1px);height: 1px;margin: -1px;overflow: hidden;padding: 0;position: absolute;width: 1px;}#sk-container-id-8 div.sk-estimator {font-family: monospace;background-color: #f0f8ff;border: 1px dotted black;border-radius: 0.25em;box-sizing: border-box;margin-bottom: 0.5em;}#sk-container-id-8 div.sk-estimator:hover {background-color: #d4ebff;}#sk-container-id-8 div.sk-parallel-item::after {content: \"\";width: 100%;border-bottom: 1px solid gray;flex-grow: 1;}#sk-container-id-8 div.sk-label:hover label.sk-toggleable__label {background-color: #d4ebff;}#sk-container-id-8 div.sk-serial::before {content: \"\";position: absolute;border-left: 1px solid gray;box-sizing: border-box;top: 0;bottom: 0;left: 50%;z-index: 0;}#sk-container-id-8 div.sk-serial {display: flex;flex-direction: column;align-items: center;background-color: white;padding-right: 0.2em;padding-left: 0.2em;position: relative;}#sk-container-id-8 div.sk-item {position: relative;z-index: 1;}#sk-container-id-8 div.sk-parallel {display: flex;align-items: stretch;justify-content: center;background-color: white;position: relative;}#sk-container-id-8 div.sk-item::before, #sk-container-id-8 div.sk-parallel-item::before {content: \"\";position: absolute;border-left: 1px solid gray;box-sizing: border-box;top: 0;bottom: 0;left: 50%;z-index: -1;}#sk-container-id-8 div.sk-parallel-item {display: flex;flex-direction: column;z-index: 1;position: relative;background-color: white;}#sk-container-id-8 div.sk-parallel-item:first-child::after {align-self: flex-end;width: 50%;}#sk-container-id-8 div.sk-parallel-item:last-child::after {align-self: flex-start;width: 50%;}#sk-container-id-8 div.sk-parallel-item:only-child::after {width: 0;}#sk-container-id-8 div.sk-dashed-wrapped {border: 1px dashed gray;margin: 0 0.4em 0.5em 0.4em;box-sizing: border-box;padding-bottom: 0.4em;background-color: white;}#sk-container-id-8 div.sk-label label {font-family: monospace;font-weight: bold;display: inline-block;line-height: 1.2em;}#sk-container-id-8 div.sk-label-container {text-align: center;}#sk-container-id-8 div.sk-container {/* jupyter's `normalize.less` sets `[hidden] { display: none; }` but bootstrap.min.css set `[hidden] { display: none !important; }` so we also need the `!important` here to be able to override the default hidden behavior on the sphinx rendered scikit-learn.org. See: https://github.com/scikit-learn/scikit-learn/issues/21755 */display: inline-block !important;position: relative;}#sk-container-id-8 div.sk-text-repr-fallback {display: none;}</style><div id=\"sk-container-id-8\" class=\"sk-top-container\"><div class=\"sk-text-repr-fallback\"><pre>BaggingClassifier()</pre><b>In a Jupyter environment, please rerun this cell to show the HTML representation or trust the notebook. <br />On GitHub, the HTML representation is unable to render, please try loading this page with nbviewer.org.</b></div><div class=\"sk-container\" hidden><div class=\"sk-item\"><div class=\"sk-estimator sk-toggleable\"><input class=\"sk-toggleable__control sk-hidden--visually\" id=\"sk-estimator-id-8\" type=\"checkbox\" checked><label for=\"sk-estimator-id-8\" class=\"sk-toggleable__label sk-toggleable__label-arrow\">BaggingClassifier</label><div class=\"sk-toggleable__content\"><pre>BaggingClassifier()</pre></div></div></div></div></div>"
      ],
      "text/plain": [
       "BaggingClassifier()"
      ]
     },
     "execution_count": 83,
     "metadata": {},
     "output_type": "execute_result"
    }
   ],
   "source": [
    "bc.fit(x_train,y_train)"
   ]
  },
  {
   "cell_type": "code",
   "execution_count": 84,
   "id": "4d32689a",
   "metadata": {},
   "outputs": [
    {
     "data": {
      "text/plain": [
       "array([0, 0, 0, 0, 0, 0, 1, 0, 0, 0, 0, 0, 0, 0, 1, 0, 0, 0, 1, 0, 0, 0,\n",
       "       0, 0, 0, 0, 1, 0, 0, 1, 1, 0, 0, 0, 0, 1, 1, 1, 0, 0, 1, 0, 0, 0,\n",
       "       0, 0, 0, 1, 0, 1, 0, 0, 0, 0, 0, 0, 0, 0, 0, 0], dtype=int64)"
      ]
     },
     "execution_count": 84,
     "metadata": {},
     "output_type": "execute_result"
    }
   ],
   "source": [
    "bcpred=bc.predict(x_test)\n",
    "bcpred"
   ]
  },
  {
   "cell_type": "code",
   "execution_count": 85,
   "id": "39140fef",
   "metadata": {},
   "outputs": [
    {
     "name": "stdout",
     "output_type": "stream",
     "text": [
      "Accuracy Score of BC:  0.95\n"
     ]
    }
   ],
   "source": [
    "print('Accuracy Score of BC: ', accuracy_score(y_test, bcpred))"
   ]
  },
  {
   "cell_type": "code",
   "execution_count": 86,
   "id": "5cd529cc",
   "metadata": {},
   "outputs": [
    {
     "name": "stdout",
     "output_type": "stream",
     "text": [
      "[[46  1]\n",
      " [ 2 11]]\n"
     ]
    }
   ],
   "source": [
    "print(confusion_matrix(y_test, bcpred))"
   ]
  },
  {
   "cell_type": "code",
   "execution_count": 87,
   "id": "1226ec0a",
   "metadata": {},
   "outputs": [
    {
     "name": "stdout",
     "output_type": "stream",
     "text": [
      "              precision    recall  f1-score   support\n",
      "\n",
      "           0       0.96      0.98      0.97        47\n",
      "           1       0.92      0.85      0.88        13\n",
      "\n",
      "    accuracy                           0.95        60\n",
      "   macro avg       0.94      0.91      0.92        60\n",
      "weighted avg       0.95      0.95      0.95        60\n",
      "\n"
     ]
    }
   ],
   "source": [
    "print(classification_report(y_test,bcpred))"
   ]
  },
  {
   "cell_type": "markdown",
   "id": "05d92bda",
   "metadata": {},
   "source": [
    "BaggingClassifier gives us 95% accuracy."
   ]
  },
  {
   "cell_type": "markdown",
   "id": "eab5db05",
   "metadata": {},
   "source": [
    "## Extra Trees Classifier"
   ]
  },
  {
   "cell_type": "code",
   "execution_count": 88,
   "id": "85231451",
   "metadata": {},
   "outputs": [],
   "source": [
    "et=ExtraTreesClassifier()"
   ]
  },
  {
   "cell_type": "code",
   "execution_count": 89,
   "id": "6b30adfa",
   "metadata": {},
   "outputs": [
    {
     "data": {
      "text/html": [
       "<style>#sk-container-id-9 {color: black;background-color: white;}#sk-container-id-9 pre{padding: 0;}#sk-container-id-9 div.sk-toggleable {background-color: white;}#sk-container-id-9 label.sk-toggleable__label {cursor: pointer;display: block;width: 100%;margin-bottom: 0;padding: 0.3em;box-sizing: border-box;text-align: center;}#sk-container-id-9 label.sk-toggleable__label-arrow:before {content: \"▸\";float: left;margin-right: 0.25em;color: #696969;}#sk-container-id-9 label.sk-toggleable__label-arrow:hover:before {color: black;}#sk-container-id-9 div.sk-estimator:hover label.sk-toggleable__label-arrow:before {color: black;}#sk-container-id-9 div.sk-toggleable__content {max-height: 0;max-width: 0;overflow: hidden;text-align: left;background-color: #f0f8ff;}#sk-container-id-9 div.sk-toggleable__content pre {margin: 0.2em;color: black;border-radius: 0.25em;background-color: #f0f8ff;}#sk-container-id-9 input.sk-toggleable__control:checked~div.sk-toggleable__content {max-height: 200px;max-width: 100%;overflow: auto;}#sk-container-id-9 input.sk-toggleable__control:checked~label.sk-toggleable__label-arrow:before {content: \"▾\";}#sk-container-id-9 div.sk-estimator input.sk-toggleable__control:checked~label.sk-toggleable__label {background-color: #d4ebff;}#sk-container-id-9 div.sk-label input.sk-toggleable__control:checked~label.sk-toggleable__label {background-color: #d4ebff;}#sk-container-id-9 input.sk-hidden--visually {border: 0;clip: rect(1px 1px 1px 1px);clip: rect(1px, 1px, 1px, 1px);height: 1px;margin: -1px;overflow: hidden;padding: 0;position: absolute;width: 1px;}#sk-container-id-9 div.sk-estimator {font-family: monospace;background-color: #f0f8ff;border: 1px dotted black;border-radius: 0.25em;box-sizing: border-box;margin-bottom: 0.5em;}#sk-container-id-9 div.sk-estimator:hover {background-color: #d4ebff;}#sk-container-id-9 div.sk-parallel-item::after {content: \"\";width: 100%;border-bottom: 1px solid gray;flex-grow: 1;}#sk-container-id-9 div.sk-label:hover label.sk-toggleable__label {background-color: #d4ebff;}#sk-container-id-9 div.sk-serial::before {content: \"\";position: absolute;border-left: 1px solid gray;box-sizing: border-box;top: 0;bottom: 0;left: 50%;z-index: 0;}#sk-container-id-9 div.sk-serial {display: flex;flex-direction: column;align-items: center;background-color: white;padding-right: 0.2em;padding-left: 0.2em;position: relative;}#sk-container-id-9 div.sk-item {position: relative;z-index: 1;}#sk-container-id-9 div.sk-parallel {display: flex;align-items: stretch;justify-content: center;background-color: white;position: relative;}#sk-container-id-9 div.sk-item::before, #sk-container-id-9 div.sk-parallel-item::before {content: \"\";position: absolute;border-left: 1px solid gray;box-sizing: border-box;top: 0;bottom: 0;left: 50%;z-index: -1;}#sk-container-id-9 div.sk-parallel-item {display: flex;flex-direction: column;z-index: 1;position: relative;background-color: white;}#sk-container-id-9 div.sk-parallel-item:first-child::after {align-self: flex-end;width: 50%;}#sk-container-id-9 div.sk-parallel-item:last-child::after {align-self: flex-start;width: 50%;}#sk-container-id-9 div.sk-parallel-item:only-child::after {width: 0;}#sk-container-id-9 div.sk-dashed-wrapped {border: 1px dashed gray;margin: 0 0.4em 0.5em 0.4em;box-sizing: border-box;padding-bottom: 0.4em;background-color: white;}#sk-container-id-9 div.sk-label label {font-family: monospace;font-weight: bold;display: inline-block;line-height: 1.2em;}#sk-container-id-9 div.sk-label-container {text-align: center;}#sk-container-id-9 div.sk-container {/* jupyter's `normalize.less` sets `[hidden] { display: none; }` but bootstrap.min.css set `[hidden] { display: none !important; }` so we also need the `!important` here to be able to override the default hidden behavior on the sphinx rendered scikit-learn.org. See: https://github.com/scikit-learn/scikit-learn/issues/21755 */display: inline-block !important;position: relative;}#sk-container-id-9 div.sk-text-repr-fallback {display: none;}</style><div id=\"sk-container-id-9\" class=\"sk-top-container\"><div class=\"sk-text-repr-fallback\"><pre>ExtraTreesClassifier()</pre><b>In a Jupyter environment, please rerun this cell to show the HTML representation or trust the notebook. <br />On GitHub, the HTML representation is unable to render, please try loading this page with nbviewer.org.</b></div><div class=\"sk-container\" hidden><div class=\"sk-item\"><div class=\"sk-estimator sk-toggleable\"><input class=\"sk-toggleable__control sk-hidden--visually\" id=\"sk-estimator-id-9\" type=\"checkbox\" checked><label for=\"sk-estimator-id-9\" class=\"sk-toggleable__label sk-toggleable__label-arrow\">ExtraTreesClassifier</label><div class=\"sk-toggleable__content\"><pre>ExtraTreesClassifier()</pre></div></div></div></div></div>"
      ],
      "text/plain": [
       "ExtraTreesClassifier()"
      ]
     },
     "execution_count": 89,
     "metadata": {},
     "output_type": "execute_result"
    }
   ],
   "source": [
    "et.fit(x_train,y_train)"
   ]
  },
  {
   "cell_type": "code",
   "execution_count": 90,
   "id": "e5f3783f",
   "metadata": {},
   "outputs": [
    {
     "data": {
      "text/plain": [
       "array([0, 0, 0, 0, 0, 0, 1, 0, 0, 0, 0, 0, 0, 0, 1, 0, 0, 0, 1, 0, 0, 0,\n",
       "       0, 0, 0, 0, 1, 0, 0, 1, 1, 0, 0, 0, 0, 1, 1, 1, 0, 0, 1, 0, 0, 0,\n",
       "       0, 0, 1, 1, 0, 1, 0, 0, 0, 0, 0, 0, 1, 0, 0, 0], dtype=int64)"
      ]
     },
     "execution_count": 90,
     "metadata": {},
     "output_type": "execute_result"
    }
   ],
   "source": [
    "etpred=et.predict(x_test)\n",
    "etpred"
   ]
  },
  {
   "cell_type": "code",
   "execution_count": 91,
   "id": "0eeab628",
   "metadata": {},
   "outputs": [
    {
     "name": "stdout",
     "output_type": "stream",
     "text": [
      "Accuracy Score of ETC:  0.95\n"
     ]
    }
   ],
   "source": [
    "print('Accuracy Score of ETC: ', accuracy_score(y_test, etpred))"
   ]
  },
  {
   "cell_type": "code",
   "execution_count": 92,
   "id": "a729b720",
   "metadata": {},
   "outputs": [
    {
     "name": "stdout",
     "output_type": "stream",
     "text": [
      "[[45  2]\n",
      " [ 1 12]]\n"
     ]
    }
   ],
   "source": [
    "print(confusion_matrix(y_test, etpred))"
   ]
  },
  {
   "cell_type": "code",
   "execution_count": 93,
   "id": "29067162",
   "metadata": {},
   "outputs": [
    {
     "name": "stdout",
     "output_type": "stream",
     "text": [
      "              precision    recall  f1-score   support\n",
      "\n",
      "           0       0.98      0.96      0.97        47\n",
      "           1       0.86      0.92      0.89        13\n",
      "\n",
      "    accuracy                           0.95        60\n",
      "   macro avg       0.92      0.94      0.93        60\n",
      "weighted avg       0.95      0.95      0.95        60\n",
      "\n"
     ]
    }
   ],
   "source": [
    "print(classification_report(y_test,etpred))"
   ]
  },
  {
   "cell_type": "markdown",
   "id": "cdea62f7",
   "metadata": {},
   "source": [
    "Extra Trees Classifier gives us 95% accuracy."
   ]
  },
  {
   "cell_type": "markdown",
   "id": "7a4a41ba",
   "metadata": {},
   "source": [
    "### Random Forest Classifier, BaggingClassifier and Extra Trees Classifier give us the best accuracy score 95%."
   ]
  },
  {
   "cell_type": "markdown",
   "id": "52b7e9da",
   "metadata": {},
   "source": [
    "## Cross Validation Score"
   ]
  },
  {
   "cell_type": "code",
   "execution_count": 94,
   "id": "d539ffb3",
   "metadata": {},
   "outputs": [],
   "source": [
    "from sklearn.model_selection import cross_val_score"
   ]
  },
  {
   "cell_type": "code",
   "execution_count": 95,
   "id": "5e44a2c8",
   "metadata": {},
   "outputs": [
    {
     "name": "stdout",
     "output_type": "stream",
     "text": [
      "Score:  [0.8  0.85 0.9  0.8  1.  ]\n",
      "Mean Score:  0.8699999999999999\n",
      "Std deviation:  0.07483314773547882\n"
     ]
    }
   ],
   "source": [
    "# CV score for BC Classifier\n",
    "\n",
    "score=cross_val_score(bc,x,y, cv=5)\n",
    "print(\"Score: \" ,score)\n",
    "print(\"Mean Score: \",score.mean())\n",
    "print(\"Std deviation: \",score.std())"
   ]
  },
  {
   "cell_type": "code",
   "execution_count": 96,
   "id": "ea92c851",
   "metadata": {},
   "outputs": [
    {
     "name": "stdout",
     "output_type": "stream",
     "text": [
      "Score:  [0.8   0.875 0.925 0.8   1.   ]\n",
      "Mean Score:  0.8800000000000001\n",
      "Std deviation:  0.07648529270389176\n"
     ]
    }
   ],
   "source": [
    "# CV score for Random Forest Classifier\n",
    "\n",
    "score=cross_val_score(rfc,x,y, cv=5)\n",
    "print(\"Score: \" ,score)\n",
    "print(\"Mean Score: \",score.mean())\n",
    "print(\"Std deviation: \",score.std())"
   ]
  },
  {
   "cell_type": "code",
   "execution_count": 97,
   "id": "d120dfa8",
   "metadata": {},
   "outputs": [
    {
     "name": "stdout",
     "output_type": "stream",
     "text": [
      "Score:  [0.8   0.825 0.9   0.825 1.   ]\n",
      "Mean Score:  0.8699999999999999\n",
      "Std deviation:  0.07314369419163898\n"
     ]
    }
   ],
   "source": [
    "# CV score for Extra Trees Classifier\n",
    "\n",
    "score=cross_val_score(et,x,y, cv=5)\n",
    "print(\"Score: \" ,score)\n",
    "print(\"Mean Score: \",score.mean())\n",
    "print(\"Std deviation: \",score.std())"
   ]
  },
  {
   "cell_type": "markdown",
   "id": "70f915c7",
   "metadata": {},
   "source": [
    "## Prediction of type of glass"
   ]
  },
  {
   "cell_type": "code",
   "execution_count": 98,
   "id": "f2981861",
   "metadata": {},
   "outputs": [
    {
     "data": {
      "text/html": [
       "<div>\n",
       "<style scoped>\n",
       "    .dataframe tbody tr th:only-of-type {\n",
       "        vertical-align: middle;\n",
       "    }\n",
       "\n",
       "    .dataframe tbody tr th {\n",
       "        vertical-align: top;\n",
       "    }\n",
       "\n",
       "    .dataframe thead th {\n",
       "        text-align: right;\n",
       "    }\n",
       "</style>\n",
       "<table border=\"1\" class=\"dataframe\">\n",
       "  <thead>\n",
       "    <tr style=\"text-align: right;\">\n",
       "      <th></th>\n",
       "      <th>RI: refractive index</th>\n",
       "      <th>Na: Sodium</th>\n",
       "      <th>Mg: Magnesium</th>\n",
       "      <th>Al: Aluminum</th>\n",
       "      <th>Si: Silicon</th>\n",
       "      <th>K: Potassium</th>\n",
       "      <th>Ca: Calcium</th>\n",
       "      <th>Ba: Barium</th>\n",
       "      <th>Fe: Iron</th>\n",
       "      <th>Type of glass</th>\n",
       "    </tr>\n",
       "  </thead>\n",
       "  <tbody>\n",
       "    <tr>\n",
       "      <th>0</th>\n",
       "      <td>1.149176</td>\n",
       "      <td>13.89</td>\n",
       "      <td>1.532619</td>\n",
       "      <td>1.107932</td>\n",
       "      <td>4.174180</td>\n",
       "      <td>0.782974</td>\n",
       "      <td>1.985732</td>\n",
       "      <td>0.000000</td>\n",
       "      <td>0.00000</td>\n",
       "      <td>0</td>\n",
       "    </tr>\n",
       "    <tr>\n",
       "      <th>1</th>\n",
       "      <td>1.148815</td>\n",
       "      <td>13.53</td>\n",
       "      <td>1.525490</td>\n",
       "      <td>1.154800</td>\n",
       "      <td>4.179148</td>\n",
       "      <td>0.730614</td>\n",
       "      <td>1.981496</td>\n",
       "      <td>0.000000</td>\n",
       "      <td>0.00000</td>\n",
       "      <td>0</td>\n",
       "    </tr>\n",
       "    <tr>\n",
       "      <th>2</th>\n",
       "      <td>1.149189</td>\n",
       "      <td>13.21</td>\n",
       "      <td>1.545286</td>\n",
       "      <td>1.088587</td>\n",
       "      <td>4.171883</td>\n",
       "      <td>0.829134</td>\n",
       "      <td>2.018168</td>\n",
       "      <td>0.000000</td>\n",
       "      <td>0.00000</td>\n",
       "      <td>0</td>\n",
       "    </tr>\n",
       "    <tr>\n",
       "      <th>3</th>\n",
       "      <td>1.149129</td>\n",
       "      <td>13.27</td>\n",
       "      <td>1.535452</td>\n",
       "      <td>1.074337</td>\n",
       "      <td>4.180865</td>\n",
       "      <td>0.819321</td>\n",
       "      <td>2.005816</td>\n",
       "      <td>0.000000</td>\n",
       "      <td>0.00000</td>\n",
       "      <td>0</td>\n",
       "    </tr>\n",
       "    <tr>\n",
       "      <th>4</th>\n",
       "      <td>1.148760</td>\n",
       "      <td>12.79</td>\n",
       "      <td>1.534037</td>\n",
       "      <td>1.174460</td>\n",
       "      <td>4.178767</td>\n",
       "      <td>0.861774</td>\n",
       "      <td>2.005816</td>\n",
       "      <td>0.000000</td>\n",
       "      <td>0.63825</td>\n",
       "      <td>0</td>\n",
       "    </tr>\n",
       "    <tr>\n",
       "      <th>...</th>\n",
       "      <td>...</td>\n",
       "      <td>...</td>\n",
       "      <td>...</td>\n",
       "      <td>...</td>\n",
       "      <td>...</td>\n",
       "      <td>...</td>\n",
       "      <td>...</td>\n",
       "      <td>...</td>\n",
       "      <td>...</td>\n",
       "      <td>...</td>\n",
       "    </tr>\n",
       "    <tr>\n",
       "      <th>208</th>\n",
       "      <td>1.148828</td>\n",
       "      <td>14.14</td>\n",
       "      <td>0.000000</td>\n",
       "      <td>1.422757</td>\n",
       "      <td>4.171883</td>\n",
       "      <td>0.430887</td>\n",
       "      <td>2.093860</td>\n",
       "      <td>1.019613</td>\n",
       "      <td>0.00000</td>\n",
       "      <td>1</td>\n",
       "    </tr>\n",
       "    <tr>\n",
       "      <th>209</th>\n",
       "      <td>1.148985</td>\n",
       "      <td>14.92</td>\n",
       "      <td>0.000000</td>\n",
       "      <td>1.257818</td>\n",
       "      <td>4.180484</td>\n",
       "      <td>0.000000</td>\n",
       "      <td>2.032793</td>\n",
       "      <td>1.167165</td>\n",
       "      <td>0.00000</td>\n",
       "      <td>1</td>\n",
       "    </tr>\n",
       "    <tr>\n",
       "      <th>210</th>\n",
       "      <td>1.149943</td>\n",
       "      <td>14.36</td>\n",
       "      <td>0.000000</td>\n",
       "      <td>1.264107</td>\n",
       "      <td>4.187339</td>\n",
       "      <td>0.000000</td>\n",
       "      <td>2.036014</td>\n",
       "      <td>1.179274</td>\n",
       "      <td>0.00000</td>\n",
       "      <td>1</td>\n",
       "    </tr>\n",
       "    <tr>\n",
       "      <th>211</th>\n",
       "      <td>1.148899</td>\n",
       "      <td>14.38</td>\n",
       "      <td>0.000000</td>\n",
       "      <td>1.247194</td>\n",
       "      <td>4.190948</td>\n",
       "      <td>0.000000</td>\n",
       "      <td>2.039226</td>\n",
       "      <td>1.162251</td>\n",
       "      <td>0.00000</td>\n",
       "      <td>1</td>\n",
       "    </tr>\n",
       "    <tr>\n",
       "      <th>212</th>\n",
       "      <td>1.149050</td>\n",
       "      <td>14.23</td>\n",
       "      <td>0.000000</td>\n",
       "      <td>1.276501</td>\n",
       "      <td>4.186198</td>\n",
       "      <td>0.000000</td>\n",
       "      <td>2.050387</td>\n",
       "      <td>1.186421</td>\n",
       "      <td>0.00000</td>\n",
       "      <td>1</td>\n",
       "    </tr>\n",
       "  </tbody>\n",
       "</table>\n",
       "<p>199 rows × 10 columns</p>\n",
       "</div>"
      ],
      "text/plain": [
       "     RI: refractive index  Na: Sodium  Mg: Magnesium  Al: Aluminum  \\\n",
       "0                1.149176       13.89       1.532619      1.107932   \n",
       "1                1.148815       13.53       1.525490      1.154800   \n",
       "2                1.149189       13.21       1.545286      1.088587   \n",
       "3                1.149129       13.27       1.535452      1.074337   \n",
       "4                1.148760       12.79       1.534037      1.174460   \n",
       "..                    ...         ...            ...           ...   \n",
       "208              1.148828       14.14       0.000000      1.422757   \n",
       "209              1.148985       14.92       0.000000      1.257818   \n",
       "210              1.149943       14.36       0.000000      1.264107   \n",
       "211              1.148899       14.38       0.000000      1.247194   \n",
       "212              1.149050       14.23       0.000000      1.276501   \n",
       "\n",
       "     Si: Silicon  K: Potassium  Ca: Calcium  Ba: Barium  Fe: Iron  \\\n",
       "0       4.174180      0.782974     1.985732    0.000000   0.00000   \n",
       "1       4.179148      0.730614     1.981496    0.000000   0.00000   \n",
       "2       4.171883      0.829134     2.018168    0.000000   0.00000   \n",
       "3       4.180865      0.819321     2.005816    0.000000   0.00000   \n",
       "4       4.178767      0.861774     2.005816    0.000000   0.63825   \n",
       "..           ...           ...          ...         ...       ...   \n",
       "208     4.171883      0.430887     2.093860    1.019613   0.00000   \n",
       "209     4.180484      0.000000     2.032793    1.167165   0.00000   \n",
       "210     4.187339      0.000000     2.036014    1.179274   0.00000   \n",
       "211     4.190948      0.000000     2.039226    1.162251   0.00000   \n",
       "212     4.186198      0.000000     2.050387    1.186421   0.00000   \n",
       "\n",
       "     Type of glass  \n",
       "0                0  \n",
       "1                0  \n",
       "2                0  \n",
       "3                0  \n",
       "4                0  \n",
       "..             ...  \n",
       "208              1  \n",
       "209              1  \n",
       "210              1  \n",
       "211              1  \n",
       "212              1  \n",
       "\n",
       "[199 rows x 10 columns]"
      ]
     },
     "execution_count": 98,
     "metadata": {},
     "output_type": "execute_result"
    }
   ],
   "source": [
    "df1"
   ]
  },
  {
   "cell_type": "markdown",
   "id": "bf20fd91",
   "metadata": {},
   "source": [
    "The new sample of glass will be with the following values:"
   ]
  },
  {
   "cell_type": "code",
   "execution_count": 99,
   "id": "83ed0256",
   "metadata": {},
   "outputs": [
    {
     "data": {
      "text/html": [
       "<div>\n",
       "<style scoped>\n",
       "    .dataframe tbody tr th:only-of-type {\n",
       "        vertical-align: middle;\n",
       "    }\n",
       "\n",
       "    .dataframe tbody tr th {\n",
       "        vertical-align: top;\n",
       "    }\n",
       "\n",
       "    .dataframe thead th {\n",
       "        text-align: right;\n",
       "    }\n",
       "</style>\n",
       "<table border=\"1\" class=\"dataframe\">\n",
       "  <thead>\n",
       "    <tr style=\"text-align: right;\">\n",
       "      <th></th>\n",
       "      <th>RI: refractive index</th>\n",
       "      <th>Na: Sodium</th>\n",
       "      <th>Mg: Magnesium</th>\n",
       "      <th>Al: Aluminum</th>\n",
       "      <th>Si: Silicon</th>\n",
       "      <th>K: Potassium</th>\n",
       "      <th>Ca: Calcium</th>\n",
       "      <th>Ba: Barium</th>\n",
       "      <th>Fe: Iron</th>\n",
       "    </tr>\n",
       "  </thead>\n",
       "  <tbody>\n",
       "    <tr>\n",
       "      <th>0</th>\n",
       "      <td>1.44</td>\n",
       "      <td>14.01</td>\n",
       "      <td>1.04</td>\n",
       "      <td>1.18</td>\n",
       "      <td>4.19</td>\n",
       "      <td>0.56</td>\n",
       "      <td>2.1</td>\n",
       "      <td>1.18</td>\n",
       "      <td>0.0</td>\n",
       "    </tr>\n",
       "  </tbody>\n",
       "</table>\n",
       "</div>"
      ],
      "text/plain": [
       "   RI: refractive index  Na: Sodium  Mg: Magnesium  Al: Aluminum  Si: Silicon  \\\n",
       "0                  1.44       14.01           1.04          1.18         4.19   \n",
       "\n",
       "   K: Potassium  Ca: Calcium  Ba: Barium  Fe: Iron  \n",
       "0          0.56          2.1        1.18       0.0  "
      ]
     },
     "execution_count": 99,
     "metadata": {},
     "output_type": "execute_result"
    }
   ],
   "source": [
    "data = {'RI: refractive index':1.44, 'Na: Sodium':14.01, 'Mg: Magnesium':1.04, 'Al: Aluminum':1.18, 'Si: Silicon':4.19, 'K: Potassium':0.56, 'Ca: Calcium':2.10, 'Ba: Barium':1.18, 'Fe: Iron':0.00}\n",
    "index=[0]\n",
    "sample=pd.DataFrame(data,index)\n",
    "sample"
   ]
  },
  {
   "cell_type": "code",
   "execution_count": 101,
   "id": "a2484f09",
   "metadata": {},
   "outputs": [
    {
     "name": "stdout",
     "output_type": "stream",
     "text": [
      "The new glass sample is:  [1]\n"
     ]
    }
   ],
   "source": [
    "new_predict=bc.predict(sample)\n",
    "print(\"The new glass sample is: \", new_predict)"
   ]
  },
  {
   "cell_type": "markdown",
   "id": "71b7f804",
   "metadata": {},
   "source": [
    "Where 0 is for window glass and 1 for non-window glass. So we have non-window glass."
   ]
  },
  {
   "cell_type": "code",
   "execution_count": 102,
   "id": "b9e2d342",
   "metadata": {},
   "outputs": [
    {
     "name": "stdout",
     "output_type": "stream",
     "text": [
      "The new glass sample is:  [1]\n"
     ]
    }
   ],
   "source": [
    "new_predict1=rfc.predict(sample)\n",
    "print(\"The new glass sample is: \", new_predict)"
   ]
  },
  {
   "cell_type": "markdown",
   "id": "289a7ebc",
   "metadata": {},
   "source": [
    "Where 0 is for window glass and 1 for non-window glass. So we have non-window glass."
   ]
  },
  {
   "cell_type": "code",
   "execution_count": 103,
   "id": "89baf93f",
   "metadata": {},
   "outputs": [
    {
     "name": "stdout",
     "output_type": "stream",
     "text": [
      "The new glass sample is:  [1]\n"
     ]
    }
   ],
   "source": [
    "new_predict1=et.predict(sample)\n",
    "print(\"The new glass sample is: \", new_predict)"
   ]
  },
  {
   "cell_type": "markdown",
   "id": "a82885c9",
   "metadata": {},
   "source": [
    "Where 0 is for window glass and 1 for non-window glass. So we have non-window glass."
   ]
  },
  {
   "cell_type": "markdown",
   "id": "2649b8b2",
   "metadata": {},
   "source": [
    "# Saving the model"
   ]
  },
  {
   "cell_type": "code",
   "execution_count": 106,
   "id": "7c476ef7",
   "metadata": {},
   "outputs": [
    {
     "data": {
      "text/plain": [
       "['rfcmodel.obj']"
      ]
     },
     "execution_count": 106,
     "metadata": {},
     "output_type": "execute_result"
    }
   ],
   "source": [
    "import joblib\n",
    "\n",
    "joblib.dump(rfc, 'rfcmodel.obj')"
   ]
  },
  {
   "cell_type": "code",
   "execution_count": null,
   "id": "5c59a2ba",
   "metadata": {},
   "outputs": [],
   "source": []
  }
 ],
 "metadata": {
  "kernelspec": {
   "display_name": "Python 3 (ipykernel)",
   "language": "python",
   "name": "python3"
  },
  "language_info": {
   "codemirror_mode": {
    "name": "ipython",
    "version": 3
   },
   "file_extension": ".py",
   "mimetype": "text/x-python",
   "name": "python",
   "nbconvert_exporter": "python",
   "pygments_lexer": "ipython3",
   "version": "3.10.9"
  }
 },
 "nbformat": 4,
 "nbformat_minor": 5
}
